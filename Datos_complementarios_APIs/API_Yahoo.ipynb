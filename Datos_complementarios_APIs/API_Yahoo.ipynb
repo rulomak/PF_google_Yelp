{
 "cells": [
  {
   "attachments": {},
   "cell_type": "markdown",
   "id": "b651def3",
   "metadata": {},
   "source": [
    "### Scrip para descargar data de la API de Yahoo Finance "
   ]
  },
  {
   "cell_type": "code",
   "execution_count": 8,
   "id": "98053c15",
   "metadata": {},
   "outputs": [],
   "source": [
    "import pandas as pd \n",
    "import numpy as np\n",
    "import datetime as dt\n",
    "import yfinance as yf"
   ]
  },
  {
   "cell_type": "code",
   "execution_count": 4,
   "id": "7f74404e",
   "metadata": {},
   "outputs": [],
   "source": [
    "# libreria necesaria \n",
    "# conda install -c conda-forge yfinance"
   ]
  },
  {
   "attachments": {},
   "cell_type": "markdown",
   "id": "2f1ad6e1",
   "metadata": {},
   "source": [
    "### Se declaran variables con las fechas de comienzo, fin  y dato de nombre del activo \n",
    " "
   ]
  },
  {
   "cell_type": "code",
   "execution_count": 55,
   "id": "dd798c1d",
   "metadata": {},
   "outputs": [],
   "source": [
    "start = dt.datetime(2022,1,1)\n",
    "end = dt.datetime(2023,6,2)\n",
    "company = '^GSPC'"
   ]
  },
  {
   "attachments": {},
   "cell_type": "markdown",
   "id": "413b63ed",
   "metadata": {},
   "source": [
    "### Se descarga la data "
   ]
  },
  {
   "cell_type": "code",
   "execution_count": 56,
   "id": "fe5a1c41",
   "metadata": {},
   "outputs": [
    {
     "name": "stdout",
     "output_type": "stream",
     "text": [
      "[*********************100%***********************]  1 of 1 completed\n"
     ]
    }
   ],
   "source": [
    "data = yf.download(company, start , end)"
   ]
  },
  {
   "cell_type": "code",
   "execution_count": 57,
   "id": "2ee43c54",
   "metadata": {},
   "outputs": [
    {
     "data": {
      "text/html": [
       "<div>\n",
       "<style scoped>\n",
       "    .dataframe tbody tr th:only-of-type {\n",
       "        vertical-align: middle;\n",
       "    }\n",
       "\n",
       "    .dataframe tbody tr th {\n",
       "        vertical-align: top;\n",
       "    }\n",
       "\n",
       "    .dataframe thead th {\n",
       "        text-align: right;\n",
       "    }\n",
       "</style>\n",
       "<table border=\"1\" class=\"dataframe\">\n",
       "  <thead>\n",
       "    <tr style=\"text-align: right;\">\n",
       "      <th></th>\n",
       "      <th>Open</th>\n",
       "      <th>High</th>\n",
       "      <th>Low</th>\n",
       "      <th>Close</th>\n",
       "      <th>Adj Close</th>\n",
       "      <th>Volume</th>\n",
       "    </tr>\n",
       "    <tr>\n",
       "      <th>Date</th>\n",
       "      <th></th>\n",
       "      <th></th>\n",
       "      <th></th>\n",
       "      <th></th>\n",
       "      <th></th>\n",
       "      <th></th>\n",
       "    </tr>\n",
       "  </thead>\n",
       "  <tbody>\n",
       "    <tr>\n",
       "      <th>2022-01-03</th>\n",
       "      <td>4778.140137</td>\n",
       "      <td>4796.640137</td>\n",
       "      <td>4758.169922</td>\n",
       "      <td>4796.560059</td>\n",
       "      <td>4796.560059</td>\n",
       "      <td>3831020000</td>\n",
       "    </tr>\n",
       "    <tr>\n",
       "      <th>2022-01-04</th>\n",
       "      <td>4804.509766</td>\n",
       "      <td>4818.620117</td>\n",
       "      <td>4774.270020</td>\n",
       "      <td>4793.540039</td>\n",
       "      <td>4793.540039</td>\n",
       "      <td>4683170000</td>\n",
       "    </tr>\n",
       "    <tr>\n",
       "      <th>2022-01-05</th>\n",
       "      <td>4787.990234</td>\n",
       "      <td>4797.700195</td>\n",
       "      <td>4699.439941</td>\n",
       "      <td>4700.580078</td>\n",
       "      <td>4700.580078</td>\n",
       "      <td>4887960000</td>\n",
       "    </tr>\n",
       "    <tr>\n",
       "      <th>2022-01-06</th>\n",
       "      <td>4693.390137</td>\n",
       "      <td>4725.009766</td>\n",
       "      <td>4671.259766</td>\n",
       "      <td>4696.049805</td>\n",
       "      <td>4696.049805</td>\n",
       "      <td>4295280000</td>\n",
       "    </tr>\n",
       "    <tr>\n",
       "      <th>2022-01-07</th>\n",
       "      <td>4697.660156</td>\n",
       "      <td>4707.950195</td>\n",
       "      <td>4662.740234</td>\n",
       "      <td>4677.029785</td>\n",
       "      <td>4677.029785</td>\n",
       "      <td>4181510000</td>\n",
       "    </tr>\n",
       "    <tr>\n",
       "      <th>...</th>\n",
       "      <td>...</td>\n",
       "      <td>...</td>\n",
       "      <td>...</td>\n",
       "      <td>...</td>\n",
       "      <td>...</td>\n",
       "      <td>...</td>\n",
       "    </tr>\n",
       "    <tr>\n",
       "      <th>2023-05-25</th>\n",
       "      <td>4155.709961</td>\n",
       "      <td>4165.740234</td>\n",
       "      <td>4129.729980</td>\n",
       "      <td>4151.279785</td>\n",
       "      <td>4151.279785</td>\n",
       "      <td>4147760000</td>\n",
       "    </tr>\n",
       "    <tr>\n",
       "      <th>2023-05-26</th>\n",
       "      <td>4156.160156</td>\n",
       "      <td>4212.870117</td>\n",
       "      <td>4156.160156</td>\n",
       "      <td>4205.450195</td>\n",
       "      <td>4205.450195</td>\n",
       "      <td>3715460000</td>\n",
       "    </tr>\n",
       "    <tr>\n",
       "      <th>2023-05-30</th>\n",
       "      <td>4226.709961</td>\n",
       "      <td>4231.100098</td>\n",
       "      <td>4192.180176</td>\n",
       "      <td>4205.520020</td>\n",
       "      <td>4205.520020</td>\n",
       "      <td>4228510000</td>\n",
       "    </tr>\n",
       "    <tr>\n",
       "      <th>2023-05-31</th>\n",
       "      <td>4190.740234</td>\n",
       "      <td>4195.439941</td>\n",
       "      <td>4166.149902</td>\n",
       "      <td>4179.830078</td>\n",
       "      <td>4179.830078</td>\n",
       "      <td>5980670000</td>\n",
       "    </tr>\n",
       "    <tr>\n",
       "      <th>2023-06-01</th>\n",
       "      <td>4183.029785</td>\n",
       "      <td>4232.430176</td>\n",
       "      <td>4171.640137</td>\n",
       "      <td>4221.020020</td>\n",
       "      <td>4221.020020</td>\n",
       "      <td>4391860000</td>\n",
       "    </tr>\n",
       "  </tbody>\n",
       "</table>\n",
       "<p>355 rows × 6 columns</p>\n",
       "</div>"
      ],
      "text/plain": [
       "                   Open         High          Low        Close    Adj Close  \\\n",
       "Date                                                                          \n",
       "2022-01-03  4778.140137  4796.640137  4758.169922  4796.560059  4796.560059   \n",
       "2022-01-04  4804.509766  4818.620117  4774.270020  4793.540039  4793.540039   \n",
       "2022-01-05  4787.990234  4797.700195  4699.439941  4700.580078  4700.580078   \n",
       "2022-01-06  4693.390137  4725.009766  4671.259766  4696.049805  4696.049805   \n",
       "2022-01-07  4697.660156  4707.950195  4662.740234  4677.029785  4677.029785   \n",
       "...                 ...          ...          ...          ...          ...   \n",
       "2023-05-25  4155.709961  4165.740234  4129.729980  4151.279785  4151.279785   \n",
       "2023-05-26  4156.160156  4212.870117  4156.160156  4205.450195  4205.450195   \n",
       "2023-05-30  4226.709961  4231.100098  4192.180176  4205.520020  4205.520020   \n",
       "2023-05-31  4190.740234  4195.439941  4166.149902  4179.830078  4179.830078   \n",
       "2023-06-01  4183.029785  4232.430176  4171.640137  4221.020020  4221.020020   \n",
       "\n",
       "                Volume  \n",
       "Date                    \n",
       "2022-01-03  3831020000  \n",
       "2022-01-04  4683170000  \n",
       "2022-01-05  4887960000  \n",
       "2022-01-06  4295280000  \n",
       "2022-01-07  4181510000  \n",
       "...                ...  \n",
       "2023-05-25  4147760000  \n",
       "2023-05-26  3715460000  \n",
       "2023-05-30  4228510000  \n",
       "2023-05-31  5980670000  \n",
       "2023-06-01  4391860000  \n",
       "\n",
       "[355 rows x 6 columns]"
      ]
     },
     "execution_count": 57,
     "metadata": {},
     "output_type": "execute_result"
    }
   ],
   "source": [
    "data"
   ]
  },
  {
   "attachments": {},
   "cell_type": "markdown",
   "id": "c838cda6",
   "metadata": {},
   "source": [
    "### Se usa solo la variable de cierre diario "
   ]
  },
  {
   "cell_type": "code",
   "execution_count": 66,
   "id": "7a681523",
   "metadata": {},
   "outputs": [
    {
     "data": {
      "text/plain": [
       "Date\n",
       "2022-01-03    4796.560059\n",
       "2022-01-04    4793.540039\n",
       "2022-01-05    4700.580078\n",
       "2022-01-06    4696.049805\n",
       "2022-01-07    4677.029785\n",
       "                 ...     \n",
       "2023-05-25    4151.279785\n",
       "2023-05-26    4205.450195\n",
       "2023-05-30    4205.520020\n",
       "2023-05-31    4179.830078\n",
       "2023-06-01    4221.020020\n",
       "Name: Close, Length: 355, dtype: float64"
      ]
     },
     "execution_count": 66,
     "metadata": {},
     "output_type": "execute_result"
    }
   ],
   "source": [
    "data['Close']"
   ]
  },
  {
   "cell_type": "code",
   "execution_count": 75,
   "id": "504c3a5f",
   "metadata": {},
   "outputs": [],
   "source": [
    "df = pd.DataFrame(data['Close'])"
   ]
  },
  {
   "cell_type": "code",
   "execution_count": 76,
   "id": "74208e0a",
   "metadata": {},
   "outputs": [
    {
     "name": "stdout",
     "output_type": "stream",
     "text": [
      "<class 'pandas.core.frame.DataFrame'>\n",
      "DatetimeIndex: 355 entries, 2022-01-03 to 2023-06-01\n",
      "Data columns (total 1 columns):\n",
      " #   Column  Non-Null Count  Dtype  \n",
      "---  ------  --------------  -----  \n",
      " 0   Close   355 non-null    float64\n",
      "dtypes: float64(1)\n",
      "memory usage: 5.5 KB\n"
     ]
    }
   ],
   "source": [
    "df.info()"
   ]
  },
  {
   "cell_type": "code",
   "execution_count": 77,
   "id": "e413b0a3",
   "metadata": {},
   "outputs": [],
   "source": [
    "df.to_csv('sp500.csv')  #  ojo que date es el indice  "
   ]
  }
 ],
 "metadata": {
  "kernelspec": {
   "display_name": "Python 3 (ipykernel)",
   "language": "python",
   "name": "python3"
  },
  "language_info": {
   "codemirror_mode": {
    "name": "ipython",
    "version": 3
   },
   "file_extension": ".py",
   "mimetype": "text/x-python",
   "name": "python",
   "nbconvert_exporter": "python",
   "pygments_lexer": "ipython3",
   "version": "3.9.13"
  }
 },
 "nbformat": 4,
 "nbformat_minor": 5
}
