{
 "cells": [
  {
   "cell_type": "code",
   "execution_count": 87,
   "metadata": {},
   "outputs": [],
   "source": [
    "import os\n",
    "import pandas as pd\n",
    "import numpy as np\n",
    "import json\n",
    "from datetime import datetime\n",
    "import seaborn as sns\n",
    "import matplotlib.pyplot as plt"
   ]
  },
  {
   "cell_type": "markdown",
   "metadata": {},
   "source": [
    "En esta seccion voy a anidar los json de dos estados: nevada y california y voy a anidar toda la metadata. El fin es crear un dataset con las reseñas de nevada y california y otro dataset con la metadata de nevada y california para eso lo que une ambos dataset es el gmap_id"
   ]
  },
  {
   "cell_type": "code",
   "execution_count": 88,
   "metadata": {},
   "outputs": [],
   "source": [
    "# #codigo para anidar todos los json de un estado en un solo dataset\n",
    "# carpeta = ''\n",
    "# dataframes = []\n",
    "\n",
    "# for archivo in os.listdir(carpeta):\n",
    "#     if archivo.endswith('.json'):\n",
    "#         ruta_archivo = os.path.join(carpeta, archivo)\n",
    "#         with open(ruta_archivo, 'r') as f:\n",
    "#             for linea in f:\n",
    "#                 try:\n",
    "#                     datos = json.loads(linea)\n",
    "#                     dataframes.append(datos)  # Agregar los datos a la lista\n",
    "#                 except json.JSONDecodeError:\n",
    "#                     continue\n",
    "\n",
    "# df_nevada = pd.DataFrame(dataframes)  # Crear el DataFrame fuera del bucle\n"
   ]
  },
  {
   "cell_type": "code",
   "execution_count": 89,
   "metadata": {},
   "outputs": [],
   "source": [
    "#veo la dimension de un dataset de un estado\n",
    "#df_nevada.shape"
   ]
  },
  {
   "cell_type": "code",
   "execution_count": 90,
   "metadata": {},
   "outputs": [],
   "source": [
    "#veo como se ven las primeras filas\n",
    "#df_nevada.head()"
   ]
  },
  {
   "cell_type": "code",
   "execution_count": 91,
   "metadata": {},
   "outputs": [],
   "source": [
    "#levanto el archivo que habia creado para california\n",
    "df_california=pd.read_csv('california.csv')"
   ]
  },
  {
   "cell_type": "code",
   "execution_count": 92,
   "metadata": {},
   "outputs": [],
   "source": [
    "#levanto el archivo que habia creado para nevada\n",
    "df_nevada=pd.read_csv('nevada.csv')"
   ]
  },
  {
   "cell_type": "code",
   "execution_count": 93,
   "metadata": {},
   "outputs": [],
   "source": [
    "#creo una nueva columna llamada estado dentro del dataset de nevada\n",
    "df_nevada=df_nevada.assign(estado='nevada')"
   ]
  },
  {
   "cell_type": "code",
   "execution_count": 94,
   "metadata": {},
   "outputs": [],
   "source": [
    "#creo una nueva columna llamada estado dentro del dataset de california\n",
    "df_california=df_california.assign(estado='california')"
   ]
  },
  {
   "cell_type": "code",
   "execution_count": 95,
   "metadata": {},
   "outputs": [],
   "source": [
    "#concateno los estados de nevada y california\n",
    "df_cal_nev=pd.concat([df_nevada, df_california], keys=['user_id', 'name', 'time','rating', 'text', 'pics','resp', 'gmap_id', 'estado'])"
   ]
  },
  {
   "cell_type": "code",
   "execution_count": 96,
   "metadata": {},
   "outputs": [
    {
     "data": {
      "text/html": [
       "<div>\n",
       "<style scoped>\n",
       "    .dataframe tbody tr th:only-of-type {\n",
       "        vertical-align: middle;\n",
       "    }\n",
       "\n",
       "    .dataframe tbody tr th {\n",
       "        vertical-align: top;\n",
       "    }\n",
       "\n",
       "    .dataframe thead th {\n",
       "        text-align: right;\n",
       "    }\n",
       "</style>\n",
       "<table border=\"1\" class=\"dataframe\">\n",
       "  <thead>\n",
       "    <tr style=\"text-align: right;\">\n",
       "      <th></th>\n",
       "      <th></th>\n",
       "      <th>user_id</th>\n",
       "      <th>name</th>\n",
       "      <th>time</th>\n",
       "      <th>rating</th>\n",
       "      <th>text</th>\n",
       "      <th>pics</th>\n",
       "      <th>resp</th>\n",
       "      <th>gmap_id</th>\n",
       "      <th>estado</th>\n",
       "    </tr>\n",
       "  </thead>\n",
       "  <tbody>\n",
       "    <tr>\n",
       "      <th rowspan=\"5\" valign=\"top\">user_id</th>\n",
       "      <th>0</th>\n",
       "      <td>109760533704769269727</td>\n",
       "      <td>Richard Bennett</td>\n",
       "      <td>1494872798260</td>\n",
       "      <td>5</td>\n",
       "      <td>You'll​ enjoy getting turned around!</td>\n",
       "      <td>NaN</td>\n",
       "      <td>NaN</td>\n",
       "      <td>0x80c8b8787f26d109:0x62372cc75ffa8bc2</td>\n",
       "      <td>nevada</td>\n",
       "    </tr>\n",
       "    <tr>\n",
       "      <th>1</th>\n",
       "      <td>111285959955400430302</td>\n",
       "      <td>Veronica Scott</td>\n",
       "      <td>1509605781969</td>\n",
       "      <td>5</td>\n",
       "      <td>Always a great stop</td>\n",
       "      <td>NaN</td>\n",
       "      <td>NaN</td>\n",
       "      <td>0x80c8b8787f26d109:0x62372cc75ffa8bc2</td>\n",
       "      <td>nevada</td>\n",
       "    </tr>\n",
       "    <tr>\n",
       "      <th>2</th>\n",
       "      <td>114239262895495645039</td>\n",
       "      <td>Michael Turley</td>\n",
       "      <td>1532368183944</td>\n",
       "      <td>5</td>\n",
       "      <td>Now that's big</td>\n",
       "      <td>NaN</td>\n",
       "      <td>NaN</td>\n",
       "      <td>0x80c8b8787f26d109:0x62372cc75ffa8bc2</td>\n",
       "      <td>nevada</td>\n",
       "    </tr>\n",
       "    <tr>\n",
       "      <th>3</th>\n",
       "      <td>110274204021472204524</td>\n",
       "      <td>Lloyd Aoki</td>\n",
       "      <td>1526083661204</td>\n",
       "      <td>4</td>\n",
       "      <td>great prices and selection</td>\n",
       "      <td>NaN</td>\n",
       "      <td>NaN</td>\n",
       "      <td>0x80c8b8787f26d109:0x62372cc75ffa8bc2</td>\n",
       "      <td>nevada</td>\n",
       "    </tr>\n",
       "    <tr>\n",
       "      <th>4</th>\n",
       "      <td>112150921411598281873</td>\n",
       "      <td>Pedro Pineda Lacruz</td>\n",
       "      <td>1509315435142</td>\n",
       "      <td>5</td>\n",
       "      <td>Same to other store IKEA</td>\n",
       "      <td>NaN</td>\n",
       "      <td>NaN</td>\n",
       "      <td>0x80c8b8787f26d109:0x62372cc75ffa8bc2</td>\n",
       "      <td>nevada</td>\n",
       "    </tr>\n",
       "  </tbody>\n",
       "</table>\n",
       "</div>"
      ],
      "text/plain": [
       "                         user_id                 name           time  rating  \\\n",
       "user_id 0  109760533704769269727      Richard Bennett  1494872798260       5   \n",
       "        1  111285959955400430302       Veronica Scott  1509605781969       5   \n",
       "        2  114239262895495645039       Michael Turley  1532368183944       5   \n",
       "        3  110274204021472204524           Lloyd Aoki  1526083661204       4   \n",
       "        4  112150921411598281873  Pedro Pineda Lacruz  1509315435142       5   \n",
       "\n",
       "                                           text pics resp  \\\n",
       "user_id 0  You'll​ enjoy getting turned around!  NaN  NaN   \n",
       "        1                   Always a great stop  NaN  NaN   \n",
       "        2                        Now that's big  NaN  NaN   \n",
       "        3            great prices and selection  NaN  NaN   \n",
       "        4              Same to other store IKEA  NaN  NaN   \n",
       "\n",
       "                                         gmap_id  estado  \n",
       "user_id 0  0x80c8b8787f26d109:0x62372cc75ffa8bc2  nevada  \n",
       "        1  0x80c8b8787f26d109:0x62372cc75ffa8bc2  nevada  \n",
       "        2  0x80c8b8787f26d109:0x62372cc75ffa8bc2  nevada  \n",
       "        3  0x80c8b8787f26d109:0x62372cc75ffa8bc2  nevada  \n",
       "        4  0x80c8b8787f26d109:0x62372cc75ffa8bc2  nevada  "
      ]
     },
     "execution_count": 96,
     "metadata": {},
     "output_type": "execute_result"
    }
   ],
   "source": [
    "df_cal_nev.head()"
   ]
  },
  {
   "cell_type": "code",
   "execution_count": 97,
   "metadata": {},
   "outputs": [
    {
     "data": {
      "text/plain": [
       "(4500000, 9)"
      ]
     },
     "execution_count": 97,
     "metadata": {},
     "output_type": "execute_result"
    }
   ],
   "source": [
    "#veo la fimension final del dataset\n",
    "df_cal_nev.shape"
   ]
  },
  {
   "cell_type": "code",
   "execution_count": 98,
   "metadata": {},
   "outputs": [],
   "source": [
    "# tranformo la columna time que estaba en formato int a decha\n",
    "def transformar_timestamp(timestamp):\n",
    "    marca_tiempo = timestamp / 1000\n",
    "    fecha_hora = datetime.fromtimestamp(marca_tiempo)\n",
    "    formato_fecha_hora = fecha_hora.strftime(\"%Y-%m-%d %H:%M:%S\")\n",
    "    return formato_fecha_hora\n",
    "\n",
    "# Aplicar la transformación a la columna\n",
    "df_cal_nev['time'] = df_cal_nev['time'].apply(transformar_timestamp)"
   ]
  },
  {
   "cell_type": "code",
   "execution_count": 99,
   "metadata": {},
   "outputs": [
    {
     "data": {
      "text/html": [
       "<div>\n",
       "<style scoped>\n",
       "    .dataframe tbody tr th:only-of-type {\n",
       "        vertical-align: middle;\n",
       "    }\n",
       "\n",
       "    .dataframe tbody tr th {\n",
       "        vertical-align: top;\n",
       "    }\n",
       "\n",
       "    .dataframe thead th {\n",
       "        text-align: right;\n",
       "    }\n",
       "</style>\n",
       "<table border=\"1\" class=\"dataframe\">\n",
       "  <thead>\n",
       "    <tr style=\"text-align: right;\">\n",
       "      <th></th>\n",
       "      <th></th>\n",
       "      <th>user_id</th>\n",
       "      <th>name</th>\n",
       "      <th>time</th>\n",
       "      <th>rating</th>\n",
       "      <th>text</th>\n",
       "      <th>pics</th>\n",
       "      <th>resp</th>\n",
       "      <th>gmap_id</th>\n",
       "      <th>estado</th>\n",
       "    </tr>\n",
       "  </thead>\n",
       "  <tbody>\n",
       "    <tr>\n",
       "      <th rowspan=\"5\" valign=\"top\">user_id</th>\n",
       "      <th>0</th>\n",
       "      <td>109760533704769269727</td>\n",
       "      <td>Richard Bennett</td>\n",
       "      <td>2017-05-15 15:26:38</td>\n",
       "      <td>5</td>\n",
       "      <td>You'll​ enjoy getting turned around!</td>\n",
       "      <td>NaN</td>\n",
       "      <td>NaN</td>\n",
       "      <td>0x80c8b8787f26d109:0x62372cc75ffa8bc2</td>\n",
       "      <td>nevada</td>\n",
       "    </tr>\n",
       "    <tr>\n",
       "      <th>1</th>\n",
       "      <td>111285959955400430302</td>\n",
       "      <td>Veronica Scott</td>\n",
       "      <td>2017-11-02 03:56:21</td>\n",
       "      <td>5</td>\n",
       "      <td>Always a great stop</td>\n",
       "      <td>NaN</td>\n",
       "      <td>NaN</td>\n",
       "      <td>0x80c8b8787f26d109:0x62372cc75ffa8bc2</td>\n",
       "      <td>nevada</td>\n",
       "    </tr>\n",
       "    <tr>\n",
       "      <th>2</th>\n",
       "      <td>114239262895495645039</td>\n",
       "      <td>Michael Turley</td>\n",
       "      <td>2018-07-23 14:49:43</td>\n",
       "      <td>5</td>\n",
       "      <td>Now that's big</td>\n",
       "      <td>NaN</td>\n",
       "      <td>NaN</td>\n",
       "      <td>0x80c8b8787f26d109:0x62372cc75ffa8bc2</td>\n",
       "      <td>nevada</td>\n",
       "    </tr>\n",
       "    <tr>\n",
       "      <th>3</th>\n",
       "      <td>110274204021472204524</td>\n",
       "      <td>Lloyd Aoki</td>\n",
       "      <td>2018-05-11 21:07:41</td>\n",
       "      <td>4</td>\n",
       "      <td>great prices and selection</td>\n",
       "      <td>NaN</td>\n",
       "      <td>NaN</td>\n",
       "      <td>0x80c8b8787f26d109:0x62372cc75ffa8bc2</td>\n",
       "      <td>nevada</td>\n",
       "    </tr>\n",
       "    <tr>\n",
       "      <th>4</th>\n",
       "      <td>112150921411598281873</td>\n",
       "      <td>Pedro Pineda Lacruz</td>\n",
       "      <td>2017-10-29 19:17:15</td>\n",
       "      <td>5</td>\n",
       "      <td>Same to other store IKEA</td>\n",
       "      <td>NaN</td>\n",
       "      <td>NaN</td>\n",
       "      <td>0x80c8b8787f26d109:0x62372cc75ffa8bc2</td>\n",
       "      <td>nevada</td>\n",
       "    </tr>\n",
       "  </tbody>\n",
       "</table>\n",
       "</div>"
      ],
      "text/plain": [
       "                         user_id                 name                 time  \\\n",
       "user_id 0  109760533704769269727      Richard Bennett  2017-05-15 15:26:38   \n",
       "        1  111285959955400430302       Veronica Scott  2017-11-02 03:56:21   \n",
       "        2  114239262895495645039       Michael Turley  2018-07-23 14:49:43   \n",
       "        3  110274204021472204524           Lloyd Aoki  2018-05-11 21:07:41   \n",
       "        4  112150921411598281873  Pedro Pineda Lacruz  2017-10-29 19:17:15   \n",
       "\n",
       "           rating                                  text pics resp  \\\n",
       "user_id 0       5  You'll​ enjoy getting turned around!  NaN  NaN   \n",
       "        1       5                   Always a great stop  NaN  NaN   \n",
       "        2       5                        Now that's big  NaN  NaN   \n",
       "        3       4            great prices and selection  NaN  NaN   \n",
       "        4       5              Same to other store IKEA  NaN  NaN   \n",
       "\n",
       "                                         gmap_id  estado  \n",
       "user_id 0  0x80c8b8787f26d109:0x62372cc75ffa8bc2  nevada  \n",
       "        1  0x80c8b8787f26d109:0x62372cc75ffa8bc2  nevada  \n",
       "        2  0x80c8b8787f26d109:0x62372cc75ffa8bc2  nevada  \n",
       "        3  0x80c8b8787f26d109:0x62372cc75ffa8bc2  nevada  \n",
       "        4  0x80c8b8787f26d109:0x62372cc75ffa8bc2  nevada  "
      ]
     },
     "execution_count": 99,
     "metadata": {},
     "output_type": "execute_result"
    }
   ],
   "source": [
    "df_cal_nev.head()"
   ]
  },
  {
   "cell_type": "code",
   "execution_count": 100,
   "metadata": {},
   "outputs": [],
   "source": [
    "# #codigo para anidar toda la metadata en un solo dataset\n",
    "# carpeta_2 = 'google_maps/metadata-sitios'\n",
    "# dataframes_2 = []\n",
    "\n",
    "# for archivo in os.listdir(carpeta_2):\n",
    "#     if archivo.endswith('.json'):\n",
    "#         ruta_archivo_2 = os.path.join(carpeta_2, archivo)\n",
    "        \n",
    "#         with open(ruta_archivo_2, 'r') as f:\n",
    "#             for linea in f:\n",
    "#                 try:\n",
    "#                     datos = json.loads(linea)\n",
    "#                     dataframes_2.append(datos)  # Agregar los datos a la lista\n",
    "#                 except json.JSONDecodeError:\n",
    "#                     continue\n",
    "\n",
    "# df_metadata = pd.DataFrame(dataframes_2)  # C"
   ]
  },
  {
   "cell_type": "code",
   "execution_count": 101,
   "metadata": {},
   "outputs": [],
   "source": [
    "#veo la dimension de la metadata\n",
    "#df_metadata.shape    "
   ]
  },
  {
   "cell_type": "code",
   "execution_count": 102,
   "metadata": {},
   "outputs": [],
   "source": [
    "#veo las primeras filas de la metadata\n",
    "#df_metadata.head()"
   ]
  },
  {
   "cell_type": "code",
   "execution_count": 103,
   "metadata": {},
   "outputs": [],
   "source": [
    "# # obtengo los gmap unicos del dataset con los estados de nevada y california para filtrar el dataset de metadata\n",
    "# valores_unicos = df_cal_nev['gmap_id'].unique()\n",
    "\n",
    "# # Crear una máscara booleana basada en los valores únicos\n",
    "# mascara = df_metadata['gmap_id'].isin(valores_unicos)\n",
    "\n",
    "# # Filtrar el segundo DataFrame utilizando la máscara booleana\n",
    "# df_metadata_filtrado = df_metadata[mascara]\n"
   ]
  },
  {
   "cell_type": "code",
   "execution_count": 104,
   "metadata": {},
   "outputs": [],
   "source": [
    "#levanto el archivo de metadata creado\n",
    "df_metadata_filtrado=pd.read_csv('google_metadata_filtrada.csv')"
   ]
  },
  {
   "cell_type": "code",
   "execution_count": 105,
   "metadata": {},
   "outputs": [
    {
     "data": {
      "text/plain": [
       "(85715, 15)"
      ]
     },
     "execution_count": 105,
     "metadata": {},
     "output_type": "execute_result"
    }
   ],
   "source": [
    "#veo la nueva dimension de la metadata\n",
    "df_metadata_filtrado.shape"
   ]
  },
  {
   "cell_type": "code",
   "execution_count": 106,
   "metadata": {},
   "outputs": [],
   "source": [
    "#guardo los archivos en formato csv\n",
    "#df_metadata_filtrado.to_csv('google_metadata_filtrada.csv', index=False)\n",
    "#df_nevada.to_csv('nevada.csv', index=False)\n",
    "#df_final.to_json('indiana.json', orient='records')\n",
    "#df_filtrado.to_parquet('google_metadata_filtrada.parquet')"
   ]
  },
  {
   "cell_type": "code",
   "execution_count": 107,
   "metadata": {},
   "outputs": [
    {
     "data": {
      "text/plain": [
       "'[\\'Shoe store\\', \"Children\\'s clothing store\", \\'Clothing store\\', \\'Hat shop\\', \"Men\\'s clothing store\", \\'Sporting goods store\\', \\'Sportswear store\\', \\'T-shirt store\\', \"Women\\'s clothing store\"]'"
      ]
     },
     "execution_count": 107,
     "metadata": {},
     "output_type": "execute_result"
    }
   ],
   "source": [
    "df_metadata_filtrado.iloc[0,6]"
   ]
  },
  {
   "cell_type": "code",
   "execution_count": 108,
   "metadata": {},
   "outputs": [
    {
     "data": {
      "text/plain": [
       "80"
      ]
     },
     "execution_count": 108,
     "metadata": {},
     "output_type": "execute_result"
    }
   ],
   "source": [
    "df_metadata_filtrado['category'].isnull().sum()"
   ]
  },
  {
   "cell_type": "code",
   "execution_count": 109,
   "metadata": {},
   "outputs": [],
   "source": [
    "#elimino los nulos de categorias\n",
    "df_metadata_filtrado=df_metadata_filtrado.dropna(subset=['category'])"
   ]
  },
  {
   "cell_type": "code",
   "execution_count": 110,
   "metadata": {},
   "outputs": [],
   "source": [
    "df_metadata_filtrado['category'] = df_metadata_filtrado['category'].str.lower()"
   ]
  },
  {
   "cell_type": "code",
   "execution_count": 111,
   "metadata": {},
   "outputs": [
    {
     "data": {
      "text/html": [
       "<div>\n",
       "<style scoped>\n",
       "    .dataframe tbody tr th:only-of-type {\n",
       "        vertical-align: middle;\n",
       "    }\n",
       "\n",
       "    .dataframe tbody tr th {\n",
       "        vertical-align: top;\n",
       "    }\n",
       "\n",
       "    .dataframe thead th {\n",
       "        text-align: right;\n",
       "    }\n",
       "</style>\n",
       "<table border=\"1\" class=\"dataframe\">\n",
       "  <thead>\n",
       "    <tr style=\"text-align: right;\">\n",
       "      <th></th>\n",
       "      <th>name</th>\n",
       "      <th>address</th>\n",
       "      <th>gmap_id</th>\n",
       "      <th>description</th>\n",
       "      <th>latitude</th>\n",
       "      <th>longitude</th>\n",
       "      <th>category</th>\n",
       "      <th>avg_rating</th>\n",
       "      <th>num_of_reviews</th>\n",
       "      <th>price</th>\n",
       "      <th>hours</th>\n",
       "      <th>MISC</th>\n",
       "      <th>state</th>\n",
       "      <th>relative_results</th>\n",
       "      <th>url</th>\n",
       "    </tr>\n",
       "  </thead>\n",
       "  <tbody>\n",
       "    <tr>\n",
       "      <th>0</th>\n",
       "      <td>Finish Line (located inside Macy's)</td>\n",
       "      <td>Finish Line (located inside Macy's), 750 W 7th...</td>\n",
       "      <td>0x80c2c7b4033612a7:0x23ead2a7d7710cff</td>\n",
       "      <td>Retail chain carrying a large selection of ath...</td>\n",
       "      <td>34.047980</td>\n",
       "      <td>-118.258601</td>\n",
       "      <td>['shoe store', \"children's clothing store\", 'c...</td>\n",
       "      <td>3.7</td>\n",
       "      <td>28</td>\n",
       "      <td>$$</td>\n",
       "      <td>[['Thursday', '10AM–9PM'], ['Friday', '10AM–9P...</td>\n",
       "      <td>{'Service options': ['In-store pickup', 'In-st...</td>\n",
       "      <td>Open ⋅ Closes 9PM</td>\n",
       "      <td>['0x80c2c7cb1a84794f:0x19b8fe9f650e9c93', '0x8...</td>\n",
       "      <td>https://www.google.com/maps/place//data=!4m2!3...</td>\n",
       "    </tr>\n",
       "    <tr>\n",
       "      <th>1</th>\n",
       "      <td>Equinox West Hollywood</td>\n",
       "      <td>Equinox West Hollywood, 8590 Sunset Blvd, West...</td>\n",
       "      <td>0x80c2bebcfef913f3:0x2ef1ca2c3cea2218</td>\n",
       "      <td>NaN</td>\n",
       "      <td>34.092260</td>\n",
       "      <td>-118.378775</td>\n",
       "      <td>['gym', 'personal trainer', 'physical fitness ...</td>\n",
       "      <td>3.9</td>\n",
       "      <td>68</td>\n",
       "      <td>NaN</td>\n",
       "      <td>[['Thursday', '5:30AM–9:30PM'], ['Friday', '5:...</td>\n",
       "      <td>{'Accessibility': ['Wheelchair accessible entr...</td>\n",
       "      <td>Open ⋅ Closes 9:30PM</td>\n",
       "      <td>['0x80c2bec595c99803:0x5f88ea0fb2bb3398', '0x8...</td>\n",
       "      <td>https://www.google.com/maps/place//data=!4m2!3...</td>\n",
       "    </tr>\n",
       "    <tr>\n",
       "      <th>2</th>\n",
       "      <td>American Airlines Terminal 5 (2nd of 2 Terminals)</td>\n",
       "      <td>American Airlines Terminal 5 (2nd of 2 Termina...</td>\n",
       "      <td>0x80c2b189cca1cce5:0x38300103ea62a29c</td>\n",
       "      <td>NaN</td>\n",
       "      <td>33.942504</td>\n",
       "      <td>-118.404649</td>\n",
       "      <td>['airline']</td>\n",
       "      <td>3.7</td>\n",
       "      <td>76</td>\n",
       "      <td>NaN</td>\n",
       "      <td>[['Thursday', 'Open 24 hours'], ['Friday', 'Op...</td>\n",
       "      <td>{'Accessibility': ['Wheelchair accessible entr...</td>\n",
       "      <td>Open 24 hours</td>\n",
       "      <td>['0x80c2b1265107a287:0x2fcbd34c93eec762', '0x8...</td>\n",
       "      <td>https://www.google.com/maps/place//data=!4m2!3...</td>\n",
       "    </tr>\n",
       "    <tr>\n",
       "      <th>3</th>\n",
       "      <td>Bank of America Financial Center</td>\n",
       "      <td>Bank of America Financial Center, 7800 Sunset ...</td>\n",
       "      <td>0x80c2bec31e7f716b:0x5189537b3cd877d0</td>\n",
       "      <td>NaN</td>\n",
       "      <td>34.097838</td>\n",
       "      <td>-118.359595</td>\n",
       "      <td>['bank', 'financial consultant', 'financial pl...</td>\n",
       "      <td>3.0</td>\n",
       "      <td>34</td>\n",
       "      <td>NaN</td>\n",
       "      <td>[['Thursday', '9AM–4PM'], ['Friday', '9AM–4PM'...</td>\n",
       "      <td>{'Accessibility': ['Wheelchair accessible elev...</td>\n",
       "      <td>Closed ⋅ Opens 9AM Fri</td>\n",
       "      <td>['0x80c2bec238c4c661:0x7e36310f380314d3', '0x8...</td>\n",
       "      <td>https://www.google.com/maps/place//data=!4m2!3...</td>\n",
       "    </tr>\n",
       "    <tr>\n",
       "      <th>4</th>\n",
       "      <td>Green Zone Recycling Center</td>\n",
       "      <td>Green Zone Recycling Center, 225 Industrial Wa...</td>\n",
       "      <td>0x8084d1170a9d365f:0xd66f631ac4e7ea51</td>\n",
       "      <td>NaN</td>\n",
       "      <td>38.680321</td>\n",
       "      <td>-121.752342</td>\n",
       "      <td>['recycling center']</td>\n",
       "      <td>4.5</td>\n",
       "      <td>66</td>\n",
       "      <td>NaN</td>\n",
       "      <td>[['Thursday', '10AM–4:30PM'], ['Friday', '10AM...</td>\n",
       "      <td>{'Accessibility': ['Wheelchair accessible entr...</td>\n",
       "      <td>Closed ⋅ Opens 10AM Fri</td>\n",
       "      <td>['0x8084d08d2cf6a7ab:0x692bb75cf5696655', '0x8...</td>\n",
       "      <td>https://www.google.com/maps/place//data=!4m2!3...</td>\n",
       "    </tr>\n",
       "  </tbody>\n",
       "</table>\n",
       "</div>"
      ],
      "text/plain": [
       "                                                name  \\\n",
       "0                Finish Line (located inside Macy's)   \n",
       "1                             Equinox West Hollywood   \n",
       "2  American Airlines Terminal 5 (2nd of 2 Terminals)   \n",
       "3                   Bank of America Financial Center   \n",
       "4                        Green Zone Recycling Center   \n",
       "\n",
       "                                             address  \\\n",
       "0  Finish Line (located inside Macy's), 750 W 7th...   \n",
       "1  Equinox West Hollywood, 8590 Sunset Blvd, West...   \n",
       "2  American Airlines Terminal 5 (2nd of 2 Termina...   \n",
       "3  Bank of America Financial Center, 7800 Sunset ...   \n",
       "4  Green Zone Recycling Center, 225 Industrial Wa...   \n",
       "\n",
       "                                 gmap_id  \\\n",
       "0  0x80c2c7b4033612a7:0x23ead2a7d7710cff   \n",
       "1  0x80c2bebcfef913f3:0x2ef1ca2c3cea2218   \n",
       "2  0x80c2b189cca1cce5:0x38300103ea62a29c   \n",
       "3  0x80c2bec31e7f716b:0x5189537b3cd877d0   \n",
       "4  0x8084d1170a9d365f:0xd66f631ac4e7ea51   \n",
       "\n",
       "                                         description   latitude   longitude  \\\n",
       "0  Retail chain carrying a large selection of ath...  34.047980 -118.258601   \n",
       "1                                                NaN  34.092260 -118.378775   \n",
       "2                                                NaN  33.942504 -118.404649   \n",
       "3                                                NaN  34.097838 -118.359595   \n",
       "4                                                NaN  38.680321 -121.752342   \n",
       "\n",
       "                                            category  avg_rating  \\\n",
       "0  ['shoe store', \"children's clothing store\", 'c...         3.7   \n",
       "1  ['gym', 'personal trainer', 'physical fitness ...         3.9   \n",
       "2                                        ['airline']         3.7   \n",
       "3  ['bank', 'financial consultant', 'financial pl...         3.0   \n",
       "4                               ['recycling center']         4.5   \n",
       "\n",
       "   num_of_reviews price                                              hours  \\\n",
       "0              28    $$  [['Thursday', '10AM–9PM'], ['Friday', '10AM–9P...   \n",
       "1              68   NaN  [['Thursday', '5:30AM–9:30PM'], ['Friday', '5:...   \n",
       "2              76   NaN  [['Thursday', 'Open 24 hours'], ['Friday', 'Op...   \n",
       "3              34   NaN  [['Thursday', '9AM–4PM'], ['Friday', '9AM–4PM'...   \n",
       "4              66   NaN  [['Thursday', '10AM–4:30PM'], ['Friday', '10AM...   \n",
       "\n",
       "                                                MISC                    state  \\\n",
       "0  {'Service options': ['In-store pickup', 'In-st...        Open ⋅ Closes 9PM   \n",
       "1  {'Accessibility': ['Wheelchair accessible entr...     Open ⋅ Closes 9:30PM   \n",
       "2  {'Accessibility': ['Wheelchair accessible entr...            Open 24 hours   \n",
       "3  {'Accessibility': ['Wheelchair accessible elev...   Closed ⋅ Opens 9AM Fri   \n",
       "4  {'Accessibility': ['Wheelchair accessible entr...  Closed ⋅ Opens 10AM Fri   \n",
       "\n",
       "                                    relative_results  \\\n",
       "0  ['0x80c2c7cb1a84794f:0x19b8fe9f650e9c93', '0x8...   \n",
       "1  ['0x80c2bec595c99803:0x5f88ea0fb2bb3398', '0x8...   \n",
       "2  ['0x80c2b1265107a287:0x2fcbd34c93eec762', '0x8...   \n",
       "3  ['0x80c2bec238c4c661:0x7e36310f380314d3', '0x8...   \n",
       "4  ['0x8084d08d2cf6a7ab:0x692bb75cf5696655', '0x8...   \n",
       "\n",
       "                                                 url  \n",
       "0  https://www.google.com/maps/place//data=!4m2!3...  \n",
       "1  https://www.google.com/maps/place//data=!4m2!3...  \n",
       "2  https://www.google.com/maps/place//data=!4m2!3...  \n",
       "3  https://www.google.com/maps/place//data=!4m2!3...  \n",
       "4  https://www.google.com/maps/place//data=!4m2!3...  "
      ]
     },
     "execution_count": 111,
     "metadata": {},
     "output_type": "execute_result"
    }
   ],
   "source": [
    "df_metadata_filtrado.head()"
   ]
  },
  {
   "cell_type": "code",
   "execution_count": 112,
   "metadata": {},
   "outputs": [
    {
     "data": {
      "text/plain": [
       "534"
      ]
     },
     "execution_count": 112,
     "metadata": {},
     "output_type": "execute_result"
    }
   ],
   "source": [
    "df_metadata_filtrado['address'].isnull().sum()"
   ]
  },
  {
   "cell_type": "code",
   "execution_count": 113,
   "metadata": {},
   "outputs": [],
   "source": [
    "df_metadata_filtrado=df_metadata_filtrado.dropna(subset=['address'])"
   ]
  },
  {
   "cell_type": "code",
   "execution_count": 114,
   "metadata": {},
   "outputs": [],
   "source": [
    "# sepraro el address en codigo postal y ciudad\n",
    "df_auxiliar = pd.DataFrame()  # DataFrame auxiliar para almacenar las filas modificadas\n",
    "\n",
    "for i in range(df_metadata_filtrado.shape[0]):\n",
    "    try:\n",
    "        data = df_metadata_filtrado.iloc[i, 1].split(',')\n",
    "        nueva_fila = df_metadata_filtrado.iloc[i, :].copy()  # Copiar la fila actual al DataFrame auxiliar\n",
    "\n",
    "        if len(data) >= 3:\n",
    "            nueva_fila['ciudad'] = data[-2]\n",
    "            nueva_fila['cp'] = data[-1]\n",
    "        elif len(data) == 2:\n",
    "            nueva_fila['ciudad'] = data[-1]\n",
    "\n",
    "        df_auxiliar = pd.concat([df_auxiliar, nueva_fila.to_frame().T])  # Concatenar la fila modificada al DataFrame auxiliar\n",
    "    except Exception as e:\n",
    "        print(f\"Error in row {i}: {e}\")"
   ]
  },
  {
   "cell_type": "code",
   "execution_count": 115,
   "metadata": {},
   "outputs": [],
   "source": [
    "df_metadata_filtrado=df_auxiliar"
   ]
  },
  {
   "cell_type": "code",
   "execution_count": 116,
   "metadata": {},
   "outputs": [
    {
     "data": {
      "text/html": [
       "<div>\n",
       "<style scoped>\n",
       "    .dataframe tbody tr th:only-of-type {\n",
       "        vertical-align: middle;\n",
       "    }\n",
       "\n",
       "    .dataframe tbody tr th {\n",
       "        vertical-align: top;\n",
       "    }\n",
       "\n",
       "    .dataframe thead th {\n",
       "        text-align: right;\n",
       "    }\n",
       "</style>\n",
       "<table border=\"1\" class=\"dataframe\">\n",
       "  <thead>\n",
       "    <tr style=\"text-align: right;\">\n",
       "      <th></th>\n",
       "      <th>name</th>\n",
       "      <th>address</th>\n",
       "      <th>gmap_id</th>\n",
       "      <th>description</th>\n",
       "      <th>latitude</th>\n",
       "      <th>longitude</th>\n",
       "      <th>category</th>\n",
       "      <th>avg_rating</th>\n",
       "      <th>num_of_reviews</th>\n",
       "      <th>price</th>\n",
       "      <th>hours</th>\n",
       "      <th>MISC</th>\n",
       "      <th>state</th>\n",
       "      <th>relative_results</th>\n",
       "      <th>url</th>\n",
       "      <th>ciudad</th>\n",
       "      <th>cp</th>\n",
       "    </tr>\n",
       "  </thead>\n",
       "  <tbody>\n",
       "    <tr>\n",
       "      <th>0</th>\n",
       "      <td>Finish Line (located inside Macy's)</td>\n",
       "      <td>Finish Line (located inside Macy's), 750 W 7th...</td>\n",
       "      <td>0x80c2c7b4033612a7:0x23ead2a7d7710cff</td>\n",
       "      <td>Retail chain carrying a large selection of ath...</td>\n",
       "      <td>34.04798</td>\n",
       "      <td>-118.258601</td>\n",
       "      <td>['shoe store', \"children's clothing store\", 'c...</td>\n",
       "      <td>3.7</td>\n",
       "      <td>28</td>\n",
       "      <td>$$</td>\n",
       "      <td>[['Thursday', '10AM–9PM'], ['Friday', '10AM–9P...</td>\n",
       "      <td>{'Service options': ['In-store pickup', 'In-st...</td>\n",
       "      <td>Open ⋅ Closes 9PM</td>\n",
       "      <td>['0x80c2c7cb1a84794f:0x19b8fe9f650e9c93', '0x8...</td>\n",
       "      <td>https://www.google.com/maps/place//data=!4m2!3...</td>\n",
       "      <td>Los Angeles</td>\n",
       "      <td>CA 90017</td>\n",
       "    </tr>\n",
       "    <tr>\n",
       "      <th>1</th>\n",
       "      <td>Equinox West Hollywood</td>\n",
       "      <td>Equinox West Hollywood, 8590 Sunset Blvd, West...</td>\n",
       "      <td>0x80c2bebcfef913f3:0x2ef1ca2c3cea2218</td>\n",
       "      <td>NaN</td>\n",
       "      <td>34.09226</td>\n",
       "      <td>-118.378775</td>\n",
       "      <td>['gym', 'personal trainer', 'physical fitness ...</td>\n",
       "      <td>3.9</td>\n",
       "      <td>68</td>\n",
       "      <td>NaN</td>\n",
       "      <td>[['Thursday', '5:30AM–9:30PM'], ['Friday', '5:...</td>\n",
       "      <td>{'Accessibility': ['Wheelchair accessible entr...</td>\n",
       "      <td>Open ⋅ Closes 9:30PM</td>\n",
       "      <td>['0x80c2bec595c99803:0x5f88ea0fb2bb3398', '0x8...</td>\n",
       "      <td>https://www.google.com/maps/place//data=!4m2!3...</td>\n",
       "      <td>West Hollywood</td>\n",
       "      <td>CA 90069</td>\n",
       "    </tr>\n",
       "    <tr>\n",
       "      <th>2</th>\n",
       "      <td>American Airlines Terminal 5 (2nd of 2 Terminals)</td>\n",
       "      <td>American Airlines Terminal 5 (2nd of 2 Termina...</td>\n",
       "      <td>0x80c2b189cca1cce5:0x38300103ea62a29c</td>\n",
       "      <td>NaN</td>\n",
       "      <td>33.942504</td>\n",
       "      <td>-118.404649</td>\n",
       "      <td>['airline']</td>\n",
       "      <td>3.7</td>\n",
       "      <td>76</td>\n",
       "      <td>NaN</td>\n",
       "      <td>[['Thursday', 'Open 24 hours'], ['Friday', 'Op...</td>\n",
       "      <td>{'Accessibility': ['Wheelchair accessible entr...</td>\n",
       "      <td>Open 24 hours</td>\n",
       "      <td>['0x80c2b1265107a287:0x2fcbd34c93eec762', '0x8...</td>\n",
       "      <td>https://www.google.com/maps/place//data=!4m2!3...</td>\n",
       "      <td>Los Angeles</td>\n",
       "      <td>CA 90045</td>\n",
       "    </tr>\n",
       "    <tr>\n",
       "      <th>3</th>\n",
       "      <td>Bank of America Financial Center</td>\n",
       "      <td>Bank of America Financial Center, 7800 Sunset ...</td>\n",
       "      <td>0x80c2bec31e7f716b:0x5189537b3cd877d0</td>\n",
       "      <td>NaN</td>\n",
       "      <td>34.097838</td>\n",
       "      <td>-118.359595</td>\n",
       "      <td>['bank', 'financial consultant', 'financial pl...</td>\n",
       "      <td>3.0</td>\n",
       "      <td>34</td>\n",
       "      <td>NaN</td>\n",
       "      <td>[['Thursday', '9AM–4PM'], ['Friday', '9AM–4PM'...</td>\n",
       "      <td>{'Accessibility': ['Wheelchair accessible elev...</td>\n",
       "      <td>Closed ⋅ Opens 9AM Fri</td>\n",
       "      <td>['0x80c2bec238c4c661:0x7e36310f380314d3', '0x8...</td>\n",
       "      <td>https://www.google.com/maps/place//data=!4m2!3...</td>\n",
       "      <td>Hollywood</td>\n",
       "      <td>CA 90046</td>\n",
       "    </tr>\n",
       "    <tr>\n",
       "      <th>4</th>\n",
       "      <td>Green Zone Recycling Center</td>\n",
       "      <td>Green Zone Recycling Center, 225 Industrial Wa...</td>\n",
       "      <td>0x8084d1170a9d365f:0xd66f631ac4e7ea51</td>\n",
       "      <td>NaN</td>\n",
       "      <td>38.680321</td>\n",
       "      <td>-121.752342</td>\n",
       "      <td>['recycling center']</td>\n",
       "      <td>4.5</td>\n",
       "      <td>66</td>\n",
       "      <td>NaN</td>\n",
       "      <td>[['Thursday', '10AM–4:30PM'], ['Friday', '10AM...</td>\n",
       "      <td>{'Accessibility': ['Wheelchair accessible entr...</td>\n",
       "      <td>Closed ⋅ Opens 10AM Fri</td>\n",
       "      <td>['0x8084d08d2cf6a7ab:0x692bb75cf5696655', '0x8...</td>\n",
       "      <td>https://www.google.com/maps/place//data=!4m2!3...</td>\n",
       "      <td>Woodland</td>\n",
       "      <td>CA 95776</td>\n",
       "    </tr>\n",
       "  </tbody>\n",
       "</table>\n",
       "</div>"
      ],
      "text/plain": [
       "                                                name  \\\n",
       "0                Finish Line (located inside Macy's)   \n",
       "1                             Equinox West Hollywood   \n",
       "2  American Airlines Terminal 5 (2nd of 2 Terminals)   \n",
       "3                   Bank of America Financial Center   \n",
       "4                        Green Zone Recycling Center   \n",
       "\n",
       "                                             address  \\\n",
       "0  Finish Line (located inside Macy's), 750 W 7th...   \n",
       "1  Equinox West Hollywood, 8590 Sunset Blvd, West...   \n",
       "2  American Airlines Terminal 5 (2nd of 2 Termina...   \n",
       "3  Bank of America Financial Center, 7800 Sunset ...   \n",
       "4  Green Zone Recycling Center, 225 Industrial Wa...   \n",
       "\n",
       "                                 gmap_id  \\\n",
       "0  0x80c2c7b4033612a7:0x23ead2a7d7710cff   \n",
       "1  0x80c2bebcfef913f3:0x2ef1ca2c3cea2218   \n",
       "2  0x80c2b189cca1cce5:0x38300103ea62a29c   \n",
       "3  0x80c2bec31e7f716b:0x5189537b3cd877d0   \n",
       "4  0x8084d1170a9d365f:0xd66f631ac4e7ea51   \n",
       "\n",
       "                                         description   latitude   longitude  \\\n",
       "0  Retail chain carrying a large selection of ath...   34.04798 -118.258601   \n",
       "1                                                NaN   34.09226 -118.378775   \n",
       "2                                                NaN  33.942504 -118.404649   \n",
       "3                                                NaN  34.097838 -118.359595   \n",
       "4                                                NaN  38.680321 -121.752342   \n",
       "\n",
       "                                            category avg_rating  \\\n",
       "0  ['shoe store', \"children's clothing store\", 'c...        3.7   \n",
       "1  ['gym', 'personal trainer', 'physical fitness ...        3.9   \n",
       "2                                        ['airline']        3.7   \n",
       "3  ['bank', 'financial consultant', 'financial pl...        3.0   \n",
       "4                               ['recycling center']        4.5   \n",
       "\n",
       "  num_of_reviews price                                              hours  \\\n",
       "0             28    $$  [['Thursday', '10AM–9PM'], ['Friday', '10AM–9P...   \n",
       "1             68   NaN  [['Thursday', '5:30AM–9:30PM'], ['Friday', '5:...   \n",
       "2             76   NaN  [['Thursday', 'Open 24 hours'], ['Friday', 'Op...   \n",
       "3             34   NaN  [['Thursday', '9AM–4PM'], ['Friday', '9AM–4PM'...   \n",
       "4             66   NaN  [['Thursday', '10AM–4:30PM'], ['Friday', '10AM...   \n",
       "\n",
       "                                                MISC                    state  \\\n",
       "0  {'Service options': ['In-store pickup', 'In-st...        Open ⋅ Closes 9PM   \n",
       "1  {'Accessibility': ['Wheelchair accessible entr...     Open ⋅ Closes 9:30PM   \n",
       "2  {'Accessibility': ['Wheelchair accessible entr...            Open 24 hours   \n",
       "3  {'Accessibility': ['Wheelchair accessible elev...   Closed ⋅ Opens 9AM Fri   \n",
       "4  {'Accessibility': ['Wheelchair accessible entr...  Closed ⋅ Opens 10AM Fri   \n",
       "\n",
       "                                    relative_results  \\\n",
       "0  ['0x80c2c7cb1a84794f:0x19b8fe9f650e9c93', '0x8...   \n",
       "1  ['0x80c2bec595c99803:0x5f88ea0fb2bb3398', '0x8...   \n",
       "2  ['0x80c2b1265107a287:0x2fcbd34c93eec762', '0x8...   \n",
       "3  ['0x80c2bec238c4c661:0x7e36310f380314d3', '0x8...   \n",
       "4  ['0x8084d08d2cf6a7ab:0x692bb75cf5696655', '0x8...   \n",
       "\n",
       "                                                 url           ciudad  \\\n",
       "0  https://www.google.com/maps/place//data=!4m2!3...      Los Angeles   \n",
       "1  https://www.google.com/maps/place//data=!4m2!3...   West Hollywood   \n",
       "2  https://www.google.com/maps/place//data=!4m2!3...      Los Angeles   \n",
       "3  https://www.google.com/maps/place//data=!4m2!3...        Hollywood   \n",
       "4  https://www.google.com/maps/place//data=!4m2!3...         Woodland   \n",
       "\n",
       "          cp  \n",
       "0   CA 90017  \n",
       "1   CA 90069  \n",
       "2   CA 90045  \n",
       "3   CA 90046  \n",
       "4   CA 95776  "
      ]
     },
     "execution_count": 116,
     "metadata": {},
     "output_type": "execute_result"
    }
   ],
   "source": [
    "df_metadata_filtrado.head()"
   ]
  },
  {
   "cell_type": "code",
   "execution_count": 117,
   "metadata": {},
   "outputs": [
    {
     "data": {
      "text/plain": [
       "(85101, 17)"
      ]
     },
     "execution_count": 117,
     "metadata": {},
     "output_type": "execute_result"
    }
   ],
   "source": [
    "df_metadata_filtrado.shape"
   ]
  },
  {
   "cell_type": "code",
   "execution_count": 118,
   "metadata": {},
   "outputs": [],
   "source": [
    "df_metadata_filtrado =  df_metadata_filtrado[~ df_metadata_filtrado['ciudad'].str.contains('ca')]"
   ]
  },
  {
   "cell_type": "code",
   "execution_count": 119,
   "metadata": {},
   "outputs": [
    {
     "data": {
      "text/plain": [
       "(83140, 17)"
      ]
     },
     "execution_count": 119,
     "metadata": {},
     "output_type": "execute_result"
    }
   ],
   "source": [
    "df_metadata_filtrado.shape"
   ]
  },
  {
   "cell_type": "code",
   "execution_count": 120,
   "metadata": {},
   "outputs": [],
   "source": [
    "df_metadata_filtrado['ciudad'] = df_metadata_filtrado['ciudad'].str.lower().str.strip()"
   ]
  },
  {
   "cell_type": "code",
   "execution_count": 121,
   "metadata": {},
   "outputs": [],
   "source": [
    "ciudades = [\n",
    "    \"los angeles\", \"san diego\", \"san jose\", \"san francisco\", \"fresno\",\n",
    "    \"sacramento\", \"long beach\", \"oakland\", \"bakersfield\", \"anaheim\",\n",
    "    \"santa ana\", \"riverside\", \"stockton\", \"chula vista\", \"irvine\",\n",
    "    \"fremont\", \"san bernardino\", \"modesto\", \"fontana\", \"oxnard\",\n",
    "    \"las vegas\", \"henderson\", \"reno\", \"north las vegas\", \"sparks\",\n",
    "    \"carson city\", \"elko\", \"mesquite\", \"boulder city\", \"fernley\"\n",
    "]\n",
    "\n",
    "df_metadata_filtrado = df_metadata_filtrado[df_metadata_filtrado['ciudad'].str.strip().isin(ciudades)]"
   ]
  },
  {
   "cell_type": "code",
   "execution_count": 122,
   "metadata": {},
   "outputs": [
    {
     "data": {
      "text/html": [
       "<div>\n",
       "<style scoped>\n",
       "    .dataframe tbody tr th:only-of-type {\n",
       "        vertical-align: middle;\n",
       "    }\n",
       "\n",
       "    .dataframe tbody tr th {\n",
       "        vertical-align: top;\n",
       "    }\n",
       "\n",
       "    .dataframe thead th {\n",
       "        text-align: right;\n",
       "    }\n",
       "</style>\n",
       "<table border=\"1\" class=\"dataframe\">\n",
       "  <thead>\n",
       "    <tr style=\"text-align: right;\">\n",
       "      <th></th>\n",
       "      <th>name</th>\n",
       "      <th>address</th>\n",
       "      <th>gmap_id</th>\n",
       "      <th>description</th>\n",
       "      <th>latitude</th>\n",
       "      <th>longitude</th>\n",
       "      <th>category</th>\n",
       "      <th>avg_rating</th>\n",
       "      <th>num_of_reviews</th>\n",
       "      <th>price</th>\n",
       "      <th>hours</th>\n",
       "      <th>MISC</th>\n",
       "      <th>state</th>\n",
       "      <th>relative_results</th>\n",
       "      <th>url</th>\n",
       "      <th>ciudad</th>\n",
       "      <th>cp</th>\n",
       "    </tr>\n",
       "  </thead>\n",
       "  <tbody>\n",
       "    <tr>\n",
       "      <th>0</th>\n",
       "      <td>Finish Line (located inside Macy's)</td>\n",
       "      <td>Finish Line (located inside Macy's), 750 W 7th...</td>\n",
       "      <td>0x80c2c7b4033612a7:0x23ead2a7d7710cff</td>\n",
       "      <td>Retail chain carrying a large selection of ath...</td>\n",
       "      <td>34.04798</td>\n",
       "      <td>-118.258601</td>\n",
       "      <td>['shoe store', \"children's clothing store\", 'c...</td>\n",
       "      <td>3.7</td>\n",
       "      <td>28</td>\n",
       "      <td>$$</td>\n",
       "      <td>[['Thursday', '10AM–9PM'], ['Friday', '10AM–9P...</td>\n",
       "      <td>{'Service options': ['In-store pickup', 'In-st...</td>\n",
       "      <td>Open ⋅ Closes 9PM</td>\n",
       "      <td>['0x80c2c7cb1a84794f:0x19b8fe9f650e9c93', '0x8...</td>\n",
       "      <td>https://www.google.com/maps/place//data=!4m2!3...</td>\n",
       "      <td>los angeles</td>\n",
       "      <td>CA 90017</td>\n",
       "    </tr>\n",
       "    <tr>\n",
       "      <th>2</th>\n",
       "      <td>American Airlines Terminal 5 (2nd of 2 Terminals)</td>\n",
       "      <td>American Airlines Terminal 5 (2nd of 2 Termina...</td>\n",
       "      <td>0x80c2b189cca1cce5:0x38300103ea62a29c</td>\n",
       "      <td>NaN</td>\n",
       "      <td>33.942504</td>\n",
       "      <td>-118.404649</td>\n",
       "      <td>['airline']</td>\n",
       "      <td>3.7</td>\n",
       "      <td>76</td>\n",
       "      <td>NaN</td>\n",
       "      <td>[['Thursday', 'Open 24 hours'], ['Friday', 'Op...</td>\n",
       "      <td>{'Accessibility': ['Wheelchair accessible entr...</td>\n",
       "      <td>Open 24 hours</td>\n",
       "      <td>['0x80c2b1265107a287:0x2fcbd34c93eec762', '0x8...</td>\n",
       "      <td>https://www.google.com/maps/place//data=!4m2!3...</td>\n",
       "      <td>los angeles</td>\n",
       "      <td>CA 90045</td>\n",
       "    </tr>\n",
       "    <tr>\n",
       "      <th>5</th>\n",
       "      <td>Select Physical Therapy</td>\n",
       "      <td>Select Physical Therapy, 7625 Mesa College Dr ...</td>\n",
       "      <td>0x80dbffe269fedc1f:0x87948ad9c06bb430</td>\n",
       "      <td>NaN</td>\n",
       "      <td>32.800632</td>\n",
       "      <td>-117.157013</td>\n",
       "      <td>['physical therapy clinic', 'medical clinic', ...</td>\n",
       "      <td>5.0</td>\n",
       "      <td>148</td>\n",
       "      <td>NaN</td>\n",
       "      <td>[['Thursday', '7AM–7PM'], ['Friday', '6:30AM–1...</td>\n",
       "      <td>{'Service options': ['Online care'], 'Health &amp;...</td>\n",
       "      <td>Open ⋅ Closes 7PM</td>\n",
       "      <td>['0x80dbff9a367c051b:0xae1644f9c8f9cf1c', '0x8...</td>\n",
       "      <td>https://www.google.com/maps/place//data=!4m2!3...</td>\n",
       "      <td>san diego</td>\n",
       "      <td>CA 92111</td>\n",
       "    </tr>\n",
       "    <tr>\n",
       "      <th>6</th>\n",
       "      <td>Payless ShoeSource</td>\n",
       "      <td>Payless ShoeSource, 201 E 5th St, Long Beach, ...</td>\n",
       "      <td>0x80dd313881672a05:0xa4da3965b145be1d</td>\n",
       "      <td>Chain retailer supplying a selection of discou...</td>\n",
       "      <td>33.772798</td>\n",
       "      <td>-118.190418</td>\n",
       "      <td>['shoe store', 'boot store', 'fashion accessor...</td>\n",
       "      <td>4.1</td>\n",
       "      <td>38</td>\n",
       "      <td>$</td>\n",
       "      <td>[['Thursday', '10AM–8PM'], ['Friday', '10AM–8P...</td>\n",
       "      <td>{'Service options': ['In-store pickup'], 'Acce...</td>\n",
       "      <td>Permanently closed</td>\n",
       "      <td>['0x80dd31750429905d:0xf931859ba5e4574c', '0x8...</td>\n",
       "      <td>https://www.google.com/maps/place//data=!4m2!3...</td>\n",
       "      <td>long beach</td>\n",
       "      <td>CA 90802</td>\n",
       "    </tr>\n",
       "    <tr>\n",
       "      <th>7</th>\n",
       "      <td>Willmore Building</td>\n",
       "      <td>Willmore Building, 315 W 3rd St, Long Beach, C...</td>\n",
       "      <td>0x80dd3137eb25f397:0xd5207d53f19649f</td>\n",
       "      <td>NaN</td>\n",
       "      <td>33.770822</td>\n",
       "      <td>-118.19543</td>\n",
       "      <td>['historical landmark']</td>\n",
       "      <td>4.1</td>\n",
       "      <td>37</td>\n",
       "      <td>NaN</td>\n",
       "      <td>NaN</td>\n",
       "      <td>{'Accessibility': ['Wheelchair accessible entr...</td>\n",
       "      <td>NaN</td>\n",
       "      <td>['0x80dd313a3fbc4e53:0x761c5b17d7b2a9f6', '0x8...</td>\n",
       "      <td>https://www.google.com/maps/place//data=!4m2!3...</td>\n",
       "      <td>long beach</td>\n",
       "      <td>CA 90802</td>\n",
       "    </tr>\n",
       "  </tbody>\n",
       "</table>\n",
       "</div>"
      ],
      "text/plain": [
       "                                                name  \\\n",
       "0                Finish Line (located inside Macy's)   \n",
       "2  American Airlines Terminal 5 (2nd of 2 Terminals)   \n",
       "5                            Select Physical Therapy   \n",
       "6                                 Payless ShoeSource   \n",
       "7                                  Willmore Building   \n",
       "\n",
       "                                             address  \\\n",
       "0  Finish Line (located inside Macy's), 750 W 7th...   \n",
       "2  American Airlines Terminal 5 (2nd of 2 Termina...   \n",
       "5  Select Physical Therapy, 7625 Mesa College Dr ...   \n",
       "6  Payless ShoeSource, 201 E 5th St, Long Beach, ...   \n",
       "7  Willmore Building, 315 W 3rd St, Long Beach, C...   \n",
       "\n",
       "                                 gmap_id  \\\n",
       "0  0x80c2c7b4033612a7:0x23ead2a7d7710cff   \n",
       "2  0x80c2b189cca1cce5:0x38300103ea62a29c   \n",
       "5  0x80dbffe269fedc1f:0x87948ad9c06bb430   \n",
       "6  0x80dd313881672a05:0xa4da3965b145be1d   \n",
       "7   0x80dd3137eb25f397:0xd5207d53f19649f   \n",
       "\n",
       "                                         description   latitude   longitude  \\\n",
       "0  Retail chain carrying a large selection of ath...   34.04798 -118.258601   \n",
       "2                                                NaN  33.942504 -118.404649   \n",
       "5                                                NaN  32.800632 -117.157013   \n",
       "6  Chain retailer supplying a selection of discou...  33.772798 -118.190418   \n",
       "7                                                NaN  33.770822  -118.19543   \n",
       "\n",
       "                                            category avg_rating  \\\n",
       "0  ['shoe store', \"children's clothing store\", 'c...        3.7   \n",
       "2                                        ['airline']        3.7   \n",
       "5  ['physical therapy clinic', 'medical clinic', ...        5.0   \n",
       "6  ['shoe store', 'boot store', 'fashion accessor...        4.1   \n",
       "7                            ['historical landmark']        4.1   \n",
       "\n",
       "  num_of_reviews price                                              hours  \\\n",
       "0             28    $$  [['Thursday', '10AM–9PM'], ['Friday', '10AM–9P...   \n",
       "2             76   NaN  [['Thursday', 'Open 24 hours'], ['Friday', 'Op...   \n",
       "5            148   NaN  [['Thursday', '7AM–7PM'], ['Friday', '6:30AM–1...   \n",
       "6             38     $  [['Thursday', '10AM–8PM'], ['Friday', '10AM–8P...   \n",
       "7             37   NaN                                                NaN   \n",
       "\n",
       "                                                MISC               state  \\\n",
       "0  {'Service options': ['In-store pickup', 'In-st...   Open ⋅ Closes 9PM   \n",
       "2  {'Accessibility': ['Wheelchair accessible entr...       Open 24 hours   \n",
       "5  {'Service options': ['Online care'], 'Health &...   Open ⋅ Closes 7PM   \n",
       "6  {'Service options': ['In-store pickup'], 'Acce...  Permanently closed   \n",
       "7  {'Accessibility': ['Wheelchair accessible entr...                 NaN   \n",
       "\n",
       "                                    relative_results  \\\n",
       "0  ['0x80c2c7cb1a84794f:0x19b8fe9f650e9c93', '0x8...   \n",
       "2  ['0x80c2b1265107a287:0x2fcbd34c93eec762', '0x8...   \n",
       "5  ['0x80dbff9a367c051b:0xae1644f9c8f9cf1c', '0x8...   \n",
       "6  ['0x80dd31750429905d:0xf931859ba5e4574c', '0x8...   \n",
       "7  ['0x80dd313a3fbc4e53:0x761c5b17d7b2a9f6', '0x8...   \n",
       "\n",
       "                                                 url       ciudad         cp  \n",
       "0  https://www.google.com/maps/place//data=!4m2!3...  los angeles   CA 90017  \n",
       "2  https://www.google.com/maps/place//data=!4m2!3...  los angeles   CA 90045  \n",
       "5  https://www.google.com/maps/place//data=!4m2!3...    san diego   CA 92111  \n",
       "6  https://www.google.com/maps/place//data=!4m2!3...   long beach   CA 90802  \n",
       "7  https://www.google.com/maps/place//data=!4m2!3...   long beach   CA 90802  "
      ]
     },
     "execution_count": 122,
     "metadata": {},
     "output_type": "execute_result"
    }
   ],
   "source": [
    "df_metadata_filtrado.head()"
   ]
  },
  {
   "cell_type": "code",
   "execution_count": 123,
   "metadata": {},
   "outputs": [
    {
     "data": {
      "text/plain": [
       "30"
      ]
     },
     "execution_count": 123,
     "metadata": {},
     "output_type": "execute_result"
    }
   ],
   "source": [
    "df_metadata_filtrado['ciudad'].nunique()"
   ]
  },
  {
   "cell_type": "code",
   "execution_count": 124,
   "metadata": {},
   "outputs": [],
   "source": [
    "#ahora voy a filtrar la metadata para quedarme con dos categorias: hotel y restaurant\n",
    "# Definir los patrones a buscar (parte de la palabra)\n",
    "#patrones = ['restaurant', 'hotel', 'dinner', 'lunch', 'hostel','apart']\n",
    "\n",
    "# Filtrar las filas que contienen parte de los patrones en la columna \"category\"\n",
    "#df_metadata_filtrado_category =df_metadata_filtrado[df_metadata_filtrado['category'].apply(lambda x: x is not None and any(p in s for s in x for p in patrones))]\n"
   ]
  },
  {
   "cell_type": "code",
   "execution_count": 194,
   "metadata": {},
   "outputs": [],
   "source": [
    "# Definir las palabras patrones\n",
    "patrones = ['chinese food','chinese restaurant','thai food','thai restaurant','japanese food','japanese restaurant','burger food','fast food','vegan food','vegan restaurant',\n",
    "    'veggie food','veggie restaurant','sea food','sea restaurant','italian food','italian restaurant','mexican food','mexican restaurant','pizzeria','coffee',\n",
    "    'bar','hostel','hotel','apart']\n",
    "\n",
    "# Buscar las palabras patrones en cada celda de la columna 'category'\n",
    "df_metadata_filtrado['patrones_encontrados'] = df_metadata_filtrado['category'].apply(\n",
    "    lambda x: any(patron in x for patron in patrones) if x is not None else False\n",
    ")\n",
    "\n",
    "# Filtrar el DataFrame por las filas que contienen las palabras patrones\n",
    "df_metadata_filtrado_category = df_metadata_filtrado[df_metadata_filtrado['patrones_encontrados']]\n"
   ]
  },
  {
   "cell_type": "code",
   "execution_count": 126,
   "metadata": {},
   "outputs": [
    {
     "data": {
      "text/html": [
       "<div>\n",
       "<style scoped>\n",
       "    .dataframe tbody tr th:only-of-type {\n",
       "        vertical-align: middle;\n",
       "    }\n",
       "\n",
       "    .dataframe tbody tr th {\n",
       "        vertical-align: top;\n",
       "    }\n",
       "\n",
       "    .dataframe thead th {\n",
       "        text-align: right;\n",
       "    }\n",
       "</style>\n",
       "<table border=\"1\" class=\"dataframe\">\n",
       "  <thead>\n",
       "    <tr style=\"text-align: right;\">\n",
       "      <th></th>\n",
       "      <th>name</th>\n",
       "      <th>address</th>\n",
       "      <th>gmap_id</th>\n",
       "      <th>description</th>\n",
       "      <th>latitude</th>\n",
       "      <th>longitude</th>\n",
       "      <th>category</th>\n",
       "      <th>avg_rating</th>\n",
       "      <th>num_of_reviews</th>\n",
       "      <th>price</th>\n",
       "      <th>hours</th>\n",
       "      <th>MISC</th>\n",
       "      <th>state</th>\n",
       "      <th>relative_results</th>\n",
       "      <th>url</th>\n",
       "      <th>ciudad</th>\n",
       "      <th>cp</th>\n",
       "      <th>patrones_encontrados</th>\n",
       "    </tr>\n",
       "  </thead>\n",
       "  <tbody>\n",
       "    <tr>\n",
       "      <th>75</th>\n",
       "      <td>MX 30-30 ll</td>\n",
       "      <td>MX 30-30 ll, 5189 Alhambra Ave, Los Angeles, C...</td>\n",
       "      <td>0x80c2c5e677d98c67:0x9265b3043a2bd2bf</td>\n",
       "      <td>NaN</td>\n",
       "      <td>34.073472</td>\n",
       "      <td>-118.172805</td>\n",
       "      <td>['mexican restaurant']</td>\n",
       "      <td>4.8</td>\n",
       "      <td>44</td>\n",
       "      <td>NaN</td>\n",
       "      <td>[['Thursday', '9:30AM–8PM'], ['Friday', '9:30A...</td>\n",
       "      <td>{'Service options': ['Curbside pickup', 'No-co...</td>\n",
       "      <td>Open ⋅ Closes 8PM</td>\n",
       "      <td>['0x80c2cfa126f8660d:0x2d9325e97763530f', '0x8...</td>\n",
       "      <td>https://www.google.com/maps/place//data=!4m2!3...</td>\n",
       "      <td>los angeles</td>\n",
       "      <td>CA 90032</td>\n",
       "      <td>True</td>\n",
       "    </tr>\n",
       "    <tr>\n",
       "      <th>98</th>\n",
       "      <td>Crepes n' Tacos Mexican Grill</td>\n",
       "      <td>Crepes n' Tacos Mexican Grill, suit #5, 5390, ...</td>\n",
       "      <td>0x80c8db636d525e3b:0x6a51cce4b2dcc350</td>\n",
       "      <td>NaN</td>\n",
       "      <td>36.164633</td>\n",
       "      <td>-115.06078</td>\n",
       "      <td>['mexican restaurant', 'crêperie', 'ice cream ...</td>\n",
       "      <td>4.0</td>\n",
       "      <td>38</td>\n",
       "      <td>NaN</td>\n",
       "      <td>[['Thursday', '9AM–9PM'], ['Friday', '9AM–9PM'...</td>\n",
       "      <td>{'Service options': ['Delivery'], 'Amenities':...</td>\n",
       "      <td>Permanently closed</td>\n",
       "      <td>['0x80c8db9d89843609:0x66b93b5ccaec8958', '0x8...</td>\n",
       "      <td>https://www.google.com/maps/place//data=!4m2!3...</td>\n",
       "      <td>las vegas</td>\n",
       "      <td>NV 89110</td>\n",
       "      <td>True</td>\n",
       "    </tr>\n",
       "    <tr>\n",
       "      <th>118</th>\n",
       "      <td>EL ENCANTO BAR</td>\n",
       "      <td>EL ENCANTO BAR, 2230 W Colchester Dr, Anaheim,...</td>\n",
       "      <td>0x80dd29a551cf7cd1:0x89b0c5e40cecd9b2</td>\n",
       "      <td>NaN</td>\n",
       "      <td>33.82029</td>\n",
       "      <td>-117.960551</td>\n",
       "      <td>['bar']</td>\n",
       "      <td>3.3</td>\n",
       "      <td>18</td>\n",
       "      <td>NaN</td>\n",
       "      <td>[['Thursday', '2PM–2AM'], ['Friday', '2PM–2AM'...</td>\n",
       "      <td>{'Service options': ['Dine-in'], 'Offerings': ...</td>\n",
       "      <td>Permanently closed</td>\n",
       "      <td>['0x80dd2997b0fd8e5f:0x51f08fc733d34e8e', '0x8...</td>\n",
       "      <td>https://www.google.com/maps/place//data=!4m2!3...</td>\n",
       "      <td>anaheim</td>\n",
       "      <td>CA 92804</td>\n",
       "      <td>True</td>\n",
       "    </tr>\n",
       "    <tr>\n",
       "      <th>147</th>\n",
       "      <td>The Residence</td>\n",
       "      <td>The Residence, 718 14th St, San Francisco, CA ...</td>\n",
       "      <td>0x808f7e1e74b1438f:0xc4162cc37e2a2dc4</td>\n",
       "      <td>Plush Victorian-style lounge with an old-world...</td>\n",
       "      <td>37.767817</td>\n",
       "      <td>-122.429392</td>\n",
       "      <td>['lounge', 'bar']</td>\n",
       "      <td>4.4</td>\n",
       "      <td>47</td>\n",
       "      <td>$</td>\n",
       "      <td>NaN</td>\n",
       "      <td>{'Highlights': ['Fast service', 'Great beer se...</td>\n",
       "      <td>NaN</td>\n",
       "      <td>['0x808f7e1e72c0f389:0xdb6440353dac5bed', '0x8...</td>\n",
       "      <td>https://www.google.com/maps/place//data=!4m2!3...</td>\n",
       "      <td>san francisco</td>\n",
       "      <td>CA 94114</td>\n",
       "      <td>True</td>\n",
       "    </tr>\n",
       "    <tr>\n",
       "      <th>159</th>\n",
       "      <td>Casa De Marina Apartments</td>\n",
       "      <td>Casa De Marina Apartments, 12600 Braddock Dr, ...</td>\n",
       "      <td>0x80c2ba76d90d37d3:0x7d2078c315e80c18</td>\n",
       "      <td>NaN</td>\n",
       "      <td>33.986621</td>\n",
       "      <td>-118.423024</td>\n",
       "      <td>['apartment complex', 'apartment rental agency...</td>\n",
       "      <td>4.4</td>\n",
       "      <td>28</td>\n",
       "      <td>NaN</td>\n",
       "      <td>[['Thursday', '8:30AM–5PM'], ['Friday', '8:30A...</td>\n",
       "      <td>{'Accessibility': ['Wheelchair accessible entr...</td>\n",
       "      <td>Open ⋅ Closes 5PM</td>\n",
       "      <td>['0x80c2b0a6b25f91fb:0x4212aa09e1fa7ea0', '0x8...</td>\n",
       "      <td>https://www.google.com/maps/place//data=!4m2!3...</td>\n",
       "      <td>los angeles</td>\n",
       "      <td>CA 90066</td>\n",
       "      <td>True</td>\n",
       "    </tr>\n",
       "  </tbody>\n",
       "</table>\n",
       "</div>"
      ],
      "text/plain": [
       "                              name  \\\n",
       "75                     MX 30-30 ll   \n",
       "98   Crepes n' Tacos Mexican Grill   \n",
       "118                 EL ENCANTO BAR   \n",
       "147                  The Residence   \n",
       "159      Casa De Marina Apartments   \n",
       "\n",
       "                                               address  \\\n",
       "75   MX 30-30 ll, 5189 Alhambra Ave, Los Angeles, C...   \n",
       "98   Crepes n' Tacos Mexican Grill, suit #5, 5390, ...   \n",
       "118  EL ENCANTO BAR, 2230 W Colchester Dr, Anaheim,...   \n",
       "147  The Residence, 718 14th St, San Francisco, CA ...   \n",
       "159  Casa De Marina Apartments, 12600 Braddock Dr, ...   \n",
       "\n",
       "                                   gmap_id  \\\n",
       "75   0x80c2c5e677d98c67:0x9265b3043a2bd2bf   \n",
       "98   0x80c8db636d525e3b:0x6a51cce4b2dcc350   \n",
       "118  0x80dd29a551cf7cd1:0x89b0c5e40cecd9b2   \n",
       "147  0x808f7e1e74b1438f:0xc4162cc37e2a2dc4   \n",
       "159  0x80c2ba76d90d37d3:0x7d2078c315e80c18   \n",
       "\n",
       "                                           description   latitude   longitude  \\\n",
       "75                                                 NaN  34.073472 -118.172805   \n",
       "98                                                 NaN  36.164633  -115.06078   \n",
       "118                                                NaN   33.82029 -117.960551   \n",
       "147  Plush Victorian-style lounge with an old-world...  37.767817 -122.429392   \n",
       "159                                                NaN  33.986621 -118.423024   \n",
       "\n",
       "                                              category avg_rating  \\\n",
       "75                              ['mexican restaurant']        4.8   \n",
       "98   ['mexican restaurant', 'crêperie', 'ice cream ...        4.0   \n",
       "118                                            ['bar']        3.3   \n",
       "147                                  ['lounge', 'bar']        4.4   \n",
       "159  ['apartment complex', 'apartment rental agency...        4.4   \n",
       "\n",
       "    num_of_reviews price                                              hours  \\\n",
       "75              44   NaN  [['Thursday', '9:30AM–8PM'], ['Friday', '9:30A...   \n",
       "98              38   NaN  [['Thursday', '9AM–9PM'], ['Friday', '9AM–9PM'...   \n",
       "118             18   NaN  [['Thursday', '2PM–2AM'], ['Friday', '2PM–2AM'...   \n",
       "147             47     $                                                NaN   \n",
       "159             28   NaN  [['Thursday', '8:30AM–5PM'], ['Friday', '8:30A...   \n",
       "\n",
       "                                                  MISC               state  \\\n",
       "75   {'Service options': ['Curbside pickup', 'No-co...   Open ⋅ Closes 8PM   \n",
       "98   {'Service options': ['Delivery'], 'Amenities':...  Permanently closed   \n",
       "118  {'Service options': ['Dine-in'], 'Offerings': ...  Permanently closed   \n",
       "147  {'Highlights': ['Fast service', 'Great beer se...                 NaN   \n",
       "159  {'Accessibility': ['Wheelchair accessible entr...   Open ⋅ Closes 5PM   \n",
       "\n",
       "                                      relative_results  \\\n",
       "75   ['0x80c2cfa126f8660d:0x2d9325e97763530f', '0x8...   \n",
       "98   ['0x80c8db9d89843609:0x66b93b5ccaec8958', '0x8...   \n",
       "118  ['0x80dd2997b0fd8e5f:0x51f08fc733d34e8e', '0x8...   \n",
       "147  ['0x808f7e1e72c0f389:0xdb6440353dac5bed', '0x8...   \n",
       "159  ['0x80c2b0a6b25f91fb:0x4212aa09e1fa7ea0', '0x8...   \n",
       "\n",
       "                                                   url         ciudad  \\\n",
       "75   https://www.google.com/maps/place//data=!4m2!3...    los angeles   \n",
       "98   https://www.google.com/maps/place//data=!4m2!3...      las vegas   \n",
       "118  https://www.google.com/maps/place//data=!4m2!3...        anaheim   \n",
       "147  https://www.google.com/maps/place//data=!4m2!3...  san francisco   \n",
       "159  https://www.google.com/maps/place//data=!4m2!3...    los angeles   \n",
       "\n",
       "            cp  patrones_encontrados  \n",
       "75    CA 90032                  True  \n",
       "98    NV 89110                  True  \n",
       "118   CA 92804                  True  \n",
       "147   CA 94114                  True  \n",
       "159   CA 90066                  True  "
      ]
     },
     "execution_count": 126,
     "metadata": {},
     "output_type": "execute_result"
    }
   ],
   "source": [
    "df_metadata_filtrado_category.head()"
   ]
  },
  {
   "cell_type": "code",
   "execution_count": 127,
   "metadata": {},
   "outputs": [
    {
     "data": {
      "text/plain": [
       "(3722, 18)"
      ]
     },
     "execution_count": 127,
     "metadata": {},
     "output_type": "execute_result"
    }
   ],
   "source": [
    "df_metadata_filtrado_category.shape"
   ]
  },
  {
   "cell_type": "code",
   "execution_count": 128,
   "metadata": {},
   "outputs": [
    {
     "data": {
      "text/plain": [
       "\"['apartment rental agency']\""
      ]
     },
     "execution_count": 128,
     "metadata": {},
     "output_type": "execute_result"
    }
   ],
   "source": [
    "df_metadata_filtrado_category.iloc[100,6]"
   ]
  },
  {
   "cell_type": "code",
   "execution_count": 129,
   "metadata": {},
   "outputs": [],
   "source": [
    "# #codigo para generar las dos categorias hoteleria y gastronomia\n",
    "# def reemplazar_lista(categoria):\n",
    "#     if isinstance(categoria, list):\n",
    "#         if any('restaurant' in item or 'dinner' in item or 'lunch' in item for item in categoria):\n",
    "#             return 'gastronomia'\n",
    "#         elif any('hotel' in item or 'hostel' in item or 'apart' in item for item in categoria):\n",
    "#             return 'hoteleria'\n",
    "#     return categoria\n",
    "\n",
    "# # Reemplazar las listas por una única categoría en la columna \"categoria\"\n",
    "# df_metadata_filtrado_category['category'] = df_metadata_filtrado_category['category'].apply(reemplazar_lista)\n",
    "\n",
    "# # Convertir la lista de la columna \"categoria\" en una cadena separada por comas\n",
    "# df_metadata_filtrado_category['category'] = df_metadata_filtrado_category['category'].apply(lambda x: ', '.join(x) if isinstance(x, list) else x)\n"
   ]
  },
  {
   "cell_type": "code",
   "execution_count": 130,
   "metadata": {},
   "outputs": [],
   "source": [
    "# Definir las palabras a reemplazar y sus correspondientes sustitutos\n",
    "reemplazos = {\n",
    "    'chinese food': 'chinese food',\n",
    "    'chinese restaurant': 'chinese food',\n",
    "    'thai food': 'thai food',\n",
    "    'thai restaurant': 'thai food',\n",
    "    'japanese food': 'japanese food',\n",
    "    'japanese restaurant': 'japanese food',\n",
    "    'burger food': 'fast food',\n",
    "    'food truck': 'fast food',  \n",
    "    'fast food': 'fast food',\n",
    "    'vegan food': 'vegan food',\n",
    "    'vegan restaurant': 'vegan food',\n",
    "    'veggie food': 'veggie food',\n",
    "    'veggie restaurant': 'veggie food',\n",
    "    'italian food': 'italian food',\n",
    "    'italian restaurant': 'italian food',\n",
    "    'pizzeria':'italian food',\n",
    "    'mexican food': 'mexican food',\n",
    "    'mexican restaurant': 'mexican food',\n",
    "    'sea food': 'sea food',\n",
    "    'sea restaurant': 'sea food',\n",
    "    'coffee': 'coffee shop',\n",
    "    'bar':'bar',\n",
    "    'hostel': 'hostel',\n",
    "    'hotel': 'hotel',\n",
    "    'apart': 'apart'\n",
    "}\n",
    "\n",
    "# Función para realizar el reemplazo en una celda\n",
    "def reemplazar_palabras(celda):\n",
    "    if celda is not None:\n",
    "        for palabra, sustituto in reemplazos.items():\n",
    "            if palabra in celda:\n",
    "                celda = sustituto\n",
    "                break  # Salir del bucle al encontrar la primera palabra\n",
    "    return celda\n",
    "\n",
    "# Aplicar el reemplazo en la columna 'category' y asignar el resultado a una nueva columna 'categoria'\n",
    "df_metadata_filtrado_category['categoria'] = df_metadata_filtrado_category['category'].apply(reemplazar_palabras)"
   ]
  },
  {
   "cell_type": "code",
   "execution_count": 131,
   "metadata": {},
   "outputs": [
    {
     "data": {
      "text/html": [
       "<div>\n",
       "<style scoped>\n",
       "    .dataframe tbody tr th:only-of-type {\n",
       "        vertical-align: middle;\n",
       "    }\n",
       "\n",
       "    .dataframe tbody tr th {\n",
       "        vertical-align: top;\n",
       "    }\n",
       "\n",
       "    .dataframe thead th {\n",
       "        text-align: right;\n",
       "    }\n",
       "</style>\n",
       "<table border=\"1\" class=\"dataframe\">\n",
       "  <thead>\n",
       "    <tr style=\"text-align: right;\">\n",
       "      <th></th>\n",
       "      <th>name</th>\n",
       "      <th>address</th>\n",
       "      <th>gmap_id</th>\n",
       "      <th>description</th>\n",
       "      <th>latitude</th>\n",
       "      <th>longitude</th>\n",
       "      <th>category</th>\n",
       "      <th>avg_rating</th>\n",
       "      <th>num_of_reviews</th>\n",
       "      <th>price</th>\n",
       "      <th>hours</th>\n",
       "      <th>MISC</th>\n",
       "      <th>state</th>\n",
       "      <th>relative_results</th>\n",
       "      <th>url</th>\n",
       "      <th>ciudad</th>\n",
       "      <th>cp</th>\n",
       "      <th>patrones_encontrados</th>\n",
       "      <th>categoria</th>\n",
       "    </tr>\n",
       "  </thead>\n",
       "  <tbody>\n",
       "    <tr>\n",
       "      <th>75</th>\n",
       "      <td>MX 30-30 ll</td>\n",
       "      <td>MX 30-30 ll, 5189 Alhambra Ave, Los Angeles, C...</td>\n",
       "      <td>0x80c2c5e677d98c67:0x9265b3043a2bd2bf</td>\n",
       "      <td>NaN</td>\n",
       "      <td>34.073472</td>\n",
       "      <td>-118.172805</td>\n",
       "      <td>['mexican restaurant']</td>\n",
       "      <td>4.8</td>\n",
       "      <td>44</td>\n",
       "      <td>NaN</td>\n",
       "      <td>[['Thursday', '9:30AM–8PM'], ['Friday', '9:30A...</td>\n",
       "      <td>{'Service options': ['Curbside pickup', 'No-co...</td>\n",
       "      <td>Open ⋅ Closes 8PM</td>\n",
       "      <td>['0x80c2cfa126f8660d:0x2d9325e97763530f', '0x8...</td>\n",
       "      <td>https://www.google.com/maps/place//data=!4m2!3...</td>\n",
       "      <td>los angeles</td>\n",
       "      <td>CA 90032</td>\n",
       "      <td>True</td>\n",
       "      <td>mexican food</td>\n",
       "    </tr>\n",
       "    <tr>\n",
       "      <th>98</th>\n",
       "      <td>Crepes n' Tacos Mexican Grill</td>\n",
       "      <td>Crepes n' Tacos Mexican Grill, suit #5, 5390, ...</td>\n",
       "      <td>0x80c8db636d525e3b:0x6a51cce4b2dcc350</td>\n",
       "      <td>NaN</td>\n",
       "      <td>36.164633</td>\n",
       "      <td>-115.06078</td>\n",
       "      <td>['mexican restaurant', 'crêperie', 'ice cream ...</td>\n",
       "      <td>4.0</td>\n",
       "      <td>38</td>\n",
       "      <td>NaN</td>\n",
       "      <td>[['Thursday', '9AM–9PM'], ['Friday', '9AM–9PM'...</td>\n",
       "      <td>{'Service options': ['Delivery'], 'Amenities':...</td>\n",
       "      <td>Permanently closed</td>\n",
       "      <td>['0x80c8db9d89843609:0x66b93b5ccaec8958', '0x8...</td>\n",
       "      <td>https://www.google.com/maps/place//data=!4m2!3...</td>\n",
       "      <td>las vegas</td>\n",
       "      <td>NV 89110</td>\n",
       "      <td>True</td>\n",
       "      <td>mexican food</td>\n",
       "    </tr>\n",
       "    <tr>\n",
       "      <th>118</th>\n",
       "      <td>EL ENCANTO BAR</td>\n",
       "      <td>EL ENCANTO BAR, 2230 W Colchester Dr, Anaheim,...</td>\n",
       "      <td>0x80dd29a551cf7cd1:0x89b0c5e40cecd9b2</td>\n",
       "      <td>NaN</td>\n",
       "      <td>33.82029</td>\n",
       "      <td>-117.960551</td>\n",
       "      <td>['bar']</td>\n",
       "      <td>3.3</td>\n",
       "      <td>18</td>\n",
       "      <td>NaN</td>\n",
       "      <td>[['Thursday', '2PM–2AM'], ['Friday', '2PM–2AM'...</td>\n",
       "      <td>{'Service options': ['Dine-in'], 'Offerings': ...</td>\n",
       "      <td>Permanently closed</td>\n",
       "      <td>['0x80dd2997b0fd8e5f:0x51f08fc733d34e8e', '0x8...</td>\n",
       "      <td>https://www.google.com/maps/place//data=!4m2!3...</td>\n",
       "      <td>anaheim</td>\n",
       "      <td>CA 92804</td>\n",
       "      <td>True</td>\n",
       "      <td>bar</td>\n",
       "    </tr>\n",
       "    <tr>\n",
       "      <th>147</th>\n",
       "      <td>The Residence</td>\n",
       "      <td>The Residence, 718 14th St, San Francisco, CA ...</td>\n",
       "      <td>0x808f7e1e74b1438f:0xc4162cc37e2a2dc4</td>\n",
       "      <td>Plush Victorian-style lounge with an old-world...</td>\n",
       "      <td>37.767817</td>\n",
       "      <td>-122.429392</td>\n",
       "      <td>['lounge', 'bar']</td>\n",
       "      <td>4.4</td>\n",
       "      <td>47</td>\n",
       "      <td>$</td>\n",
       "      <td>NaN</td>\n",
       "      <td>{'Highlights': ['Fast service', 'Great beer se...</td>\n",
       "      <td>NaN</td>\n",
       "      <td>['0x808f7e1e72c0f389:0xdb6440353dac5bed', '0x8...</td>\n",
       "      <td>https://www.google.com/maps/place//data=!4m2!3...</td>\n",
       "      <td>san francisco</td>\n",
       "      <td>CA 94114</td>\n",
       "      <td>True</td>\n",
       "      <td>bar</td>\n",
       "    </tr>\n",
       "    <tr>\n",
       "      <th>159</th>\n",
       "      <td>Casa De Marina Apartments</td>\n",
       "      <td>Casa De Marina Apartments, 12600 Braddock Dr, ...</td>\n",
       "      <td>0x80c2ba76d90d37d3:0x7d2078c315e80c18</td>\n",
       "      <td>NaN</td>\n",
       "      <td>33.986621</td>\n",
       "      <td>-118.423024</td>\n",
       "      <td>['apartment complex', 'apartment rental agency...</td>\n",
       "      <td>4.4</td>\n",
       "      <td>28</td>\n",
       "      <td>NaN</td>\n",
       "      <td>[['Thursday', '8:30AM–5PM'], ['Friday', '8:30A...</td>\n",
       "      <td>{'Accessibility': ['Wheelchair accessible entr...</td>\n",
       "      <td>Open ⋅ Closes 5PM</td>\n",
       "      <td>['0x80c2b0a6b25f91fb:0x4212aa09e1fa7ea0', '0x8...</td>\n",
       "      <td>https://www.google.com/maps/place//data=!4m2!3...</td>\n",
       "      <td>los angeles</td>\n",
       "      <td>CA 90066</td>\n",
       "      <td>True</td>\n",
       "      <td>apart</td>\n",
       "    </tr>\n",
       "  </tbody>\n",
       "</table>\n",
       "</div>"
      ],
      "text/plain": [
       "                              name  \\\n",
       "75                     MX 30-30 ll   \n",
       "98   Crepes n' Tacos Mexican Grill   \n",
       "118                 EL ENCANTO BAR   \n",
       "147                  The Residence   \n",
       "159      Casa De Marina Apartments   \n",
       "\n",
       "                                               address  \\\n",
       "75   MX 30-30 ll, 5189 Alhambra Ave, Los Angeles, C...   \n",
       "98   Crepes n' Tacos Mexican Grill, suit #5, 5390, ...   \n",
       "118  EL ENCANTO BAR, 2230 W Colchester Dr, Anaheim,...   \n",
       "147  The Residence, 718 14th St, San Francisco, CA ...   \n",
       "159  Casa De Marina Apartments, 12600 Braddock Dr, ...   \n",
       "\n",
       "                                   gmap_id  \\\n",
       "75   0x80c2c5e677d98c67:0x9265b3043a2bd2bf   \n",
       "98   0x80c8db636d525e3b:0x6a51cce4b2dcc350   \n",
       "118  0x80dd29a551cf7cd1:0x89b0c5e40cecd9b2   \n",
       "147  0x808f7e1e74b1438f:0xc4162cc37e2a2dc4   \n",
       "159  0x80c2ba76d90d37d3:0x7d2078c315e80c18   \n",
       "\n",
       "                                           description   latitude   longitude  \\\n",
       "75                                                 NaN  34.073472 -118.172805   \n",
       "98                                                 NaN  36.164633  -115.06078   \n",
       "118                                                NaN   33.82029 -117.960551   \n",
       "147  Plush Victorian-style lounge with an old-world...  37.767817 -122.429392   \n",
       "159                                                NaN  33.986621 -118.423024   \n",
       "\n",
       "                                              category avg_rating  \\\n",
       "75                              ['mexican restaurant']        4.8   \n",
       "98   ['mexican restaurant', 'crêperie', 'ice cream ...        4.0   \n",
       "118                                            ['bar']        3.3   \n",
       "147                                  ['lounge', 'bar']        4.4   \n",
       "159  ['apartment complex', 'apartment rental agency...        4.4   \n",
       "\n",
       "    num_of_reviews price                                              hours  \\\n",
       "75              44   NaN  [['Thursday', '9:30AM–8PM'], ['Friday', '9:30A...   \n",
       "98              38   NaN  [['Thursday', '9AM–9PM'], ['Friday', '9AM–9PM'...   \n",
       "118             18   NaN  [['Thursday', '2PM–2AM'], ['Friday', '2PM–2AM'...   \n",
       "147             47     $                                                NaN   \n",
       "159             28   NaN  [['Thursday', '8:30AM–5PM'], ['Friday', '8:30A...   \n",
       "\n",
       "                                                  MISC               state  \\\n",
       "75   {'Service options': ['Curbside pickup', 'No-co...   Open ⋅ Closes 8PM   \n",
       "98   {'Service options': ['Delivery'], 'Amenities':...  Permanently closed   \n",
       "118  {'Service options': ['Dine-in'], 'Offerings': ...  Permanently closed   \n",
       "147  {'Highlights': ['Fast service', 'Great beer se...                 NaN   \n",
       "159  {'Accessibility': ['Wheelchair accessible entr...   Open ⋅ Closes 5PM   \n",
       "\n",
       "                                      relative_results  \\\n",
       "75   ['0x80c2cfa126f8660d:0x2d9325e97763530f', '0x8...   \n",
       "98   ['0x80c8db9d89843609:0x66b93b5ccaec8958', '0x8...   \n",
       "118  ['0x80dd2997b0fd8e5f:0x51f08fc733d34e8e', '0x8...   \n",
       "147  ['0x808f7e1e72c0f389:0xdb6440353dac5bed', '0x8...   \n",
       "159  ['0x80c2b0a6b25f91fb:0x4212aa09e1fa7ea0', '0x8...   \n",
       "\n",
       "                                                   url         ciudad  \\\n",
       "75   https://www.google.com/maps/place//data=!4m2!3...    los angeles   \n",
       "98   https://www.google.com/maps/place//data=!4m2!3...      las vegas   \n",
       "118  https://www.google.com/maps/place//data=!4m2!3...        anaheim   \n",
       "147  https://www.google.com/maps/place//data=!4m2!3...  san francisco   \n",
       "159  https://www.google.com/maps/place//data=!4m2!3...    los angeles   \n",
       "\n",
       "            cp  patrones_encontrados     categoria  \n",
       "75    CA 90032                  True  mexican food  \n",
       "98    NV 89110                  True  mexican food  \n",
       "118   CA 92804                  True           bar  \n",
       "147   CA 94114                  True           bar  \n",
       "159   CA 90066                  True         apart  "
      ]
     },
     "execution_count": 131,
     "metadata": {},
     "output_type": "execute_result"
    }
   ],
   "source": [
    "df_metadata_filtrado_category.head()"
   ]
  },
  {
   "cell_type": "code",
   "execution_count": 132,
   "metadata": {},
   "outputs": [
    {
     "data": {
      "text/plain": [
       "array(['mexican food', 'bar', 'apart', 'fast food', 'hotel',\n",
       "       'italian food', 'coffee shop', 'vegan food', 'thai food',\n",
       "       'chinese food', 'japanese food', 'hostel'], dtype=object)"
      ]
     },
     "execution_count": 132,
     "metadata": {},
     "output_type": "execute_result"
    }
   ],
   "source": [
    "df_metadata_filtrado_category['categoria'].unique()"
   ]
  },
  {
   "cell_type": "code",
   "execution_count": 133,
   "metadata": {},
   "outputs": [],
   "source": [
    "# Quedarse solo con dos columnas específicas del dataset metadata\n",
    "columnas_seleccionadas = ['gmap_id', 'categoria', 'ciudad']\n",
    "df_metadata_filtrado_category_final= df_metadata_filtrado_category[columnas_seleccionadas]"
   ]
  },
  {
   "cell_type": "code",
   "execution_count": 134,
   "metadata": {},
   "outputs": [],
   "source": [
    "# Quedarse solo con dos columnas específicas del dataset de reviews\n",
    "columnas_seleccionadas_2 = ['user_id', 'time', 'text', 'gmap_id', 'estado','rating']\n",
    "df_cal_nev_final= df_cal_nev[columnas_seleccionadas_2]\n"
   ]
  },
  {
   "cell_type": "code",
   "execution_count": 135,
   "metadata": {},
   "outputs": [],
   "source": [
    "#paso la columna a letra miniscula\n",
    "df_cal_nev_final['text'] = df_cal_nev_final['text'].str.lower()"
   ]
  },
  {
   "cell_type": "code",
   "execution_count": 136,
   "metadata": {},
   "outputs": [],
   "source": [
    "# Anexar los DataFrames por la columna \"gmap_id\" ya que corresponderia solo a gastronomia y hoteleria de nevada y california\n",
    "df_anexado = pd.merge(df_metadata_filtrado_category_final, df_cal_nev_final, on='gmap_id', how='inner')"
   ]
  },
  {
   "cell_type": "code",
   "execution_count": 137,
   "metadata": {},
   "outputs": [
    {
     "data": {
      "text/html": [
       "<div>\n",
       "<style scoped>\n",
       "    .dataframe tbody tr th:only-of-type {\n",
       "        vertical-align: middle;\n",
       "    }\n",
       "\n",
       "    .dataframe tbody tr th {\n",
       "        vertical-align: top;\n",
       "    }\n",
       "\n",
       "    .dataframe thead th {\n",
       "        text-align: right;\n",
       "    }\n",
       "</style>\n",
       "<table border=\"1\" class=\"dataframe\">\n",
       "  <thead>\n",
       "    <tr style=\"text-align: right;\">\n",
       "      <th></th>\n",
       "      <th>gmap_id</th>\n",
       "      <th>categoria</th>\n",
       "      <th>ciudad</th>\n",
       "      <th>user_id</th>\n",
       "      <th>time</th>\n",
       "      <th>text</th>\n",
       "      <th>estado</th>\n",
       "      <th>rating</th>\n",
       "    </tr>\n",
       "  </thead>\n",
       "  <tbody>\n",
       "    <tr>\n",
       "      <th>0</th>\n",
       "      <td>0x80c2c5e677d98c67:0x9265b3043a2bd2bf</td>\n",
       "      <td>mexican food</td>\n",
       "      <td>los angeles</td>\n",
       "      <td>111890560677626731427</td>\n",
       "      <td>2021-06-04 23:37:37</td>\n",
       "      <td>omg a jewel in the middle of nowhere, excellen...</td>\n",
       "      <td>california</td>\n",
       "      <td>5</td>\n",
       "    </tr>\n",
       "    <tr>\n",
       "      <th>1</th>\n",
       "      <td>0x80c2c5e677d98c67:0x9265b3043a2bd2bf</td>\n",
       "      <td>mexican food</td>\n",
       "      <td>los angeles</td>\n",
       "      <td>100595127322961471960</td>\n",
       "      <td>2021-04-25 20:17:03</td>\n",
       "      <td>absolutely fantastic food for all times of the...</td>\n",
       "      <td>california</td>\n",
       "      <td>5</td>\n",
       "    </tr>\n",
       "    <tr>\n",
       "      <th>2</th>\n",
       "      <td>0x80c2c5e677d98c67:0x9265b3043a2bd2bf</td>\n",
       "      <td>mexican food</td>\n",
       "      <td>los angeles</td>\n",
       "      <td>110587276092890140993</td>\n",
       "      <td>2020-11-04 15:37:10</td>\n",
       "      <td>this is a little gem of a place! very friendly...</td>\n",
       "      <td>california</td>\n",
       "      <td>5</td>\n",
       "    </tr>\n",
       "    <tr>\n",
       "      <th>3</th>\n",
       "      <td>0x80c2c5e677d98c67:0x9265b3043a2bd2bf</td>\n",
       "      <td>mexican food</td>\n",
       "      <td>los angeles</td>\n",
       "      <td>110405827649419293381</td>\n",
       "      <td>2020-12-18 23:25:37</td>\n",
       "      <td>have only ever tried the tacos here but they a...</td>\n",
       "      <td>california</td>\n",
       "      <td>5</td>\n",
       "    </tr>\n",
       "    <tr>\n",
       "      <th>4</th>\n",
       "      <td>0x80c2c5e677d98c67:0x9265b3043a2bd2bf</td>\n",
       "      <td>mexican food</td>\n",
       "      <td>los angeles</td>\n",
       "      <td>110897329913233182337</td>\n",
       "      <td>2021-03-08 20:25:47</td>\n",
       "      <td>if you are in the mood for good homemade mexic...</td>\n",
       "      <td>california</td>\n",
       "      <td>5</td>\n",
       "    </tr>\n",
       "  </tbody>\n",
       "</table>\n",
       "</div>"
      ],
      "text/plain": [
       "                                 gmap_id     categoria       ciudad  \\\n",
       "0  0x80c2c5e677d98c67:0x9265b3043a2bd2bf  mexican food  los angeles   \n",
       "1  0x80c2c5e677d98c67:0x9265b3043a2bd2bf  mexican food  los angeles   \n",
       "2  0x80c2c5e677d98c67:0x9265b3043a2bd2bf  mexican food  los angeles   \n",
       "3  0x80c2c5e677d98c67:0x9265b3043a2bd2bf  mexican food  los angeles   \n",
       "4  0x80c2c5e677d98c67:0x9265b3043a2bd2bf  mexican food  los angeles   \n",
       "\n",
       "                 user_id                 time  \\\n",
       "0  111890560677626731427  2021-06-04 23:37:37   \n",
       "1  100595127322961471960  2021-04-25 20:17:03   \n",
       "2  110587276092890140993  2020-11-04 15:37:10   \n",
       "3  110405827649419293381  2020-12-18 23:25:37   \n",
       "4  110897329913233182337  2021-03-08 20:25:47   \n",
       "\n",
       "                                                text      estado  rating  \n",
       "0  omg a jewel in the middle of nowhere, excellen...  california       5  \n",
       "1  absolutely fantastic food for all times of the...  california       5  \n",
       "2  this is a little gem of a place! very friendly...  california       5  \n",
       "3  have only ever tried the tacos here but they a...  california       5  \n",
       "4  if you are in the mood for good homemade mexic...  california       5  "
      ]
     },
     "execution_count": 137,
     "metadata": {},
     "output_type": "execute_result"
    }
   ],
   "source": [
    "df_anexado.head()"
   ]
  },
  {
   "cell_type": "code",
   "execution_count": 138,
   "metadata": {},
   "outputs": [
    {
     "data": {
      "text/plain": [
       "(156336, 8)"
      ]
     },
     "execution_count": 138,
     "metadata": {},
     "output_type": "execute_result"
    }
   ],
   "source": [
    "df_anexado.shape"
   ]
  },
  {
   "cell_type": "code",
   "execution_count": 139,
   "metadata": {},
   "outputs": [
    {
     "data": {
      "text/plain": [
       "0"
      ]
     },
     "execution_count": 139,
     "metadata": {},
     "output_type": "execute_result"
    }
   ],
   "source": [
    "#veo cuantos nulos hay en esa columna\n",
    "df_anexado['gmap_id'].isnull().sum()"
   ]
  },
  {
   "cell_type": "code",
   "execution_count": 140,
   "metadata": {},
   "outputs": [
    {
     "data": {
      "text/plain": [
       "65310"
      ]
     },
     "execution_count": 140,
     "metadata": {},
     "output_type": "execute_result"
    }
   ],
   "source": [
    "#veo cuantos nulos hay en esa columna\n",
    "df_anexado['text'].isnull().sum()"
   ]
  },
  {
   "cell_type": "code",
   "execution_count": 141,
   "metadata": {},
   "outputs": [
    {
     "data": {
      "text/plain": [
       "0"
      ]
     },
     "execution_count": 141,
     "metadata": {},
     "output_type": "execute_result"
    }
   ],
   "source": [
    "#veo cuantos nulos hay en esa columna\n",
    "df_anexado['rating'].isnull().sum()"
   ]
  },
  {
   "cell_type": "code",
   "execution_count": 142,
   "metadata": {},
   "outputs": [
    {
     "data": {
      "text/plain": [
       "array([5, 2, 4, 3, 1])"
      ]
     },
     "execution_count": 142,
     "metadata": {},
     "output_type": "execute_result"
    }
   ],
   "source": [
    "df_anexado['rating'].unique()"
   ]
  },
  {
   "cell_type": "code",
   "execution_count": 143,
   "metadata": {},
   "outputs": [
    {
     "data": {
      "text/plain": [
       "0"
      ]
     },
     "execution_count": 143,
     "metadata": {},
     "output_type": "execute_result"
    }
   ],
   "source": [
    "#veo cuantos nulos hay en esa columna\n",
    "df_anexado['categoria'].isnull().sum()"
   ]
  },
  {
   "cell_type": "code",
   "execution_count": 144,
   "metadata": {},
   "outputs": [
    {
     "data": {
      "text/plain": [
       "array(['mexican food', 'bar', 'apart', 'fast food', 'hotel',\n",
       "       'italian food', 'coffee shop', 'vegan food', 'thai food',\n",
       "       'chinese food', 'japanese food', 'hostel'], dtype=object)"
      ]
     },
     "execution_count": 144,
     "metadata": {},
     "output_type": "execute_result"
    }
   ],
   "source": [
    "df_anexado['categoria'].unique()"
   ]
  },
  {
   "cell_type": "code",
   "execution_count": 145,
   "metadata": {},
   "outputs": [
    {
     "data": {
      "text/plain": [
       "0"
      ]
     },
     "execution_count": 145,
     "metadata": {},
     "output_type": "execute_result"
    }
   ],
   "source": [
    "#veo cuantos nulos hay en esa columna\n",
    "df_anexado['time'].isnull().sum()"
   ]
  },
  {
   "cell_type": "code",
   "execution_count": 146,
   "metadata": {},
   "outputs": [
    {
     "data": {
      "text/plain": [
       "0"
      ]
     },
     "execution_count": 146,
     "metadata": {},
     "output_type": "execute_result"
    }
   ],
   "source": [
    "#veo cuantos nulos hay en esa columna\n",
    "df_anexado['user_id'].isnull().sum()"
   ]
  },
  {
   "cell_type": "code",
   "execution_count": 147,
   "metadata": {},
   "outputs": [
    {
     "data": {
      "text/plain": [
       "121361"
      ]
     },
     "execution_count": 147,
     "metadata": {},
     "output_type": "execute_result"
    }
   ],
   "source": [
    "df_anexado['user_id'].nunique()"
   ]
  },
  {
   "cell_type": "code",
   "execution_count": 148,
   "metadata": {},
   "outputs": [
    {
     "data": {
      "text/plain": [
       "0"
      ]
     },
     "execution_count": 148,
     "metadata": {},
     "output_type": "execute_result"
    }
   ],
   "source": [
    "#veo cuantos nulos hay en esa columna\n",
    "df_anexado['ciudad'].isnull().sum()"
   ]
  },
  {
   "cell_type": "code",
   "execution_count": 149,
   "metadata": {},
   "outputs": [],
   "source": [
    "# Eliminar los valores nulos en las columnas \"gama_id\" y \"text\"\n",
    "df_sin_nulos = df_anexado.dropna(subset=['text'])"
   ]
  },
  {
   "cell_type": "code",
   "execution_count": 150,
   "metadata": {},
   "outputs": [],
   "source": [
    "#df_sin_nulos.to_csv('estados-metadata.csv', index=False)"
   ]
  },
  {
   "cell_type": "code",
   "execution_count": 151,
   "metadata": {},
   "outputs": [],
   "source": [
    "#df_sin_nulos=pd.read_csv('estados-metadata.csv')"
   ]
  },
  {
   "cell_type": "code",
   "execution_count": 152,
   "metadata": {},
   "outputs": [
    {
     "name": "stderr",
     "output_type": "stream",
     "text": [
      "[nltk_data] Downloading package vader_lexicon to\n",
      "[nltk_data]     /Users/melisatirabassi/nltk_data...\n",
      "[nltk_data]   Package vader_lexicon is already up-to-date!\n"
     ]
    }
   ],
   "source": [
    "#hago el analisis de sentimiento para las reseñas escritas\n",
    "import nltk\n",
    "from nltk.sentiment import SentimentIntensityAnalyzer\n",
    "\n",
    "# Descargar el modelo de análisis de sentimientos pre-entrenado\n",
    "nltk.download('vader_lexicon')\n",
    "\n",
    "# Inicializar el analizador de sentimientos\n",
    "sia = SentimentIntensityAnalyzer()\n",
    "\n",
    "# Aplicar el análisis de sentimientos a cada review y obtener el puntaje sentimental\n",
    "df_sin_nulos['sentiment_score'] = df_sin_nulos['text'].apply(lambda x: sia.polarity_scores(x)['compound'])"
   ]
  },
  {
   "cell_type": "code",
   "execution_count": 153,
   "metadata": {},
   "outputs": [
    {
     "data": {
      "text/html": [
       "<div>\n",
       "<style scoped>\n",
       "    .dataframe tbody tr th:only-of-type {\n",
       "        vertical-align: middle;\n",
       "    }\n",
       "\n",
       "    .dataframe tbody tr th {\n",
       "        vertical-align: top;\n",
       "    }\n",
       "\n",
       "    .dataframe thead th {\n",
       "        text-align: right;\n",
       "    }\n",
       "</style>\n",
       "<table border=\"1\" class=\"dataframe\">\n",
       "  <thead>\n",
       "    <tr style=\"text-align: right;\">\n",
       "      <th></th>\n",
       "      <th>gmap_id</th>\n",
       "      <th>categoria</th>\n",
       "      <th>ciudad</th>\n",
       "      <th>user_id</th>\n",
       "      <th>time</th>\n",
       "      <th>text</th>\n",
       "      <th>estado</th>\n",
       "      <th>rating</th>\n",
       "      <th>sentiment_score</th>\n",
       "    </tr>\n",
       "  </thead>\n",
       "  <tbody>\n",
       "    <tr>\n",
       "      <th>0</th>\n",
       "      <td>0x80c2c5e677d98c67:0x9265b3043a2bd2bf</td>\n",
       "      <td>mexican food</td>\n",
       "      <td>los angeles</td>\n",
       "      <td>111890560677626731427</td>\n",
       "      <td>2021-06-04 23:37:37</td>\n",
       "      <td>omg a jewel in the middle of nowhere, excellen...</td>\n",
       "      <td>california</td>\n",
       "      <td>5</td>\n",
       "      <td>0.9577</td>\n",
       "    </tr>\n",
       "    <tr>\n",
       "      <th>1</th>\n",
       "      <td>0x80c2c5e677d98c67:0x9265b3043a2bd2bf</td>\n",
       "      <td>mexican food</td>\n",
       "      <td>los angeles</td>\n",
       "      <td>100595127322961471960</td>\n",
       "      <td>2021-04-25 20:17:03</td>\n",
       "      <td>absolutely fantastic food for all times of the...</td>\n",
       "      <td>california</td>\n",
       "      <td>5</td>\n",
       "      <td>0.5849</td>\n",
       "    </tr>\n",
       "    <tr>\n",
       "      <th>2</th>\n",
       "      <td>0x80c2c5e677d98c67:0x9265b3043a2bd2bf</td>\n",
       "      <td>mexican food</td>\n",
       "      <td>los angeles</td>\n",
       "      <td>110587276092890140993</td>\n",
       "      <td>2020-11-04 15:37:10</td>\n",
       "      <td>this is a little gem of a place! very friendly...</td>\n",
       "      <td>california</td>\n",
       "      <td>5</td>\n",
       "      <td>0.9431</td>\n",
       "    </tr>\n",
       "    <tr>\n",
       "      <th>3</th>\n",
       "      <td>0x80c2c5e677d98c67:0x9265b3043a2bd2bf</td>\n",
       "      <td>mexican food</td>\n",
       "      <td>los angeles</td>\n",
       "      <td>110405827649419293381</td>\n",
       "      <td>2020-12-18 23:25:37</td>\n",
       "      <td>have only ever tried the tacos here but they a...</td>\n",
       "      <td>california</td>\n",
       "      <td>5</td>\n",
       "      <td>0.9514</td>\n",
       "    </tr>\n",
       "    <tr>\n",
       "      <th>4</th>\n",
       "      <td>0x80c2c5e677d98c67:0x9265b3043a2bd2bf</td>\n",
       "      <td>mexican food</td>\n",
       "      <td>los angeles</td>\n",
       "      <td>110897329913233182337</td>\n",
       "      <td>2021-03-08 20:25:47</td>\n",
       "      <td>if you are in the mood for good homemade mexic...</td>\n",
       "      <td>california</td>\n",
       "      <td>5</td>\n",
       "      <td>0.7500</td>\n",
       "    </tr>\n",
       "  </tbody>\n",
       "</table>\n",
       "</div>"
      ],
      "text/plain": [
       "                                 gmap_id     categoria       ciudad  \\\n",
       "0  0x80c2c5e677d98c67:0x9265b3043a2bd2bf  mexican food  los angeles   \n",
       "1  0x80c2c5e677d98c67:0x9265b3043a2bd2bf  mexican food  los angeles   \n",
       "2  0x80c2c5e677d98c67:0x9265b3043a2bd2bf  mexican food  los angeles   \n",
       "3  0x80c2c5e677d98c67:0x9265b3043a2bd2bf  mexican food  los angeles   \n",
       "4  0x80c2c5e677d98c67:0x9265b3043a2bd2bf  mexican food  los angeles   \n",
       "\n",
       "                 user_id                 time  \\\n",
       "0  111890560677626731427  2021-06-04 23:37:37   \n",
       "1  100595127322961471960  2021-04-25 20:17:03   \n",
       "2  110587276092890140993  2020-11-04 15:37:10   \n",
       "3  110405827649419293381  2020-12-18 23:25:37   \n",
       "4  110897329913233182337  2021-03-08 20:25:47   \n",
       "\n",
       "                                                text      estado  rating  \\\n",
       "0  omg a jewel in the middle of nowhere, excellen...  california       5   \n",
       "1  absolutely fantastic food for all times of the...  california       5   \n",
       "2  this is a little gem of a place! very friendly...  california       5   \n",
       "3  have only ever tried the tacos here but they a...  california       5   \n",
       "4  if you are in the mood for good homemade mexic...  california       5   \n",
       "\n",
       "   sentiment_score  \n",
       "0           0.9577  \n",
       "1           0.5849  \n",
       "2           0.9431  \n",
       "3           0.9514  \n",
       "4           0.7500  "
      ]
     },
     "execution_count": 153,
     "metadata": {},
     "output_type": "execute_result"
    }
   ],
   "source": [
    "df_sin_nulos.head()"
   ]
  },
  {
   "cell_type": "code",
   "execution_count": 154,
   "metadata": {},
   "outputs": [
    {
     "data": {
      "text/plain": [
       "(91026, 9)"
      ]
     },
     "execution_count": 154,
     "metadata": {},
     "output_type": "execute_result"
    }
   ],
   "source": [
    "df_sin_nulos.shape"
   ]
  },
  {
   "cell_type": "code",
   "execution_count": 155,
   "metadata": {},
   "outputs": [],
   "source": [
    "# Convertir la columna \"fecha\" en un objeto de fecha y hora\n",
    "df_sin_nulos['time'] = pd.to_datetime(df_sin_nulos['time'])\n",
    "\n",
    "# Extraer el año y el mes de la columna \"fecha\"\n",
    "df_sin_nulos['año'] = df_sin_nulos['time'].dt.year\n",
    "df_sin_nulos['mes'] = df_sin_nulos['time'].dt.month"
   ]
  },
  {
   "cell_type": "code",
   "execution_count": 156,
   "metadata": {},
   "outputs": [
    {
     "data": {
      "text/html": [
       "<div>\n",
       "<style scoped>\n",
       "    .dataframe tbody tr th:only-of-type {\n",
       "        vertical-align: middle;\n",
       "    }\n",
       "\n",
       "    .dataframe tbody tr th {\n",
       "        vertical-align: top;\n",
       "    }\n",
       "\n",
       "    .dataframe thead th {\n",
       "        text-align: right;\n",
       "    }\n",
       "</style>\n",
       "<table border=\"1\" class=\"dataframe\">\n",
       "  <thead>\n",
       "    <tr style=\"text-align: right;\">\n",
       "      <th></th>\n",
       "      <th>gmap_id</th>\n",
       "      <th>categoria</th>\n",
       "      <th>ciudad</th>\n",
       "      <th>user_id</th>\n",
       "      <th>time</th>\n",
       "      <th>text</th>\n",
       "      <th>estado</th>\n",
       "      <th>rating</th>\n",
       "      <th>sentiment_score</th>\n",
       "      <th>año</th>\n",
       "      <th>mes</th>\n",
       "    </tr>\n",
       "  </thead>\n",
       "  <tbody>\n",
       "    <tr>\n",
       "      <th>0</th>\n",
       "      <td>0x80c2c5e677d98c67:0x9265b3043a2bd2bf</td>\n",
       "      <td>mexican food</td>\n",
       "      <td>los angeles</td>\n",
       "      <td>111890560677626731427</td>\n",
       "      <td>2021-06-04 23:37:37</td>\n",
       "      <td>omg a jewel in the middle of nowhere, excellen...</td>\n",
       "      <td>california</td>\n",
       "      <td>5</td>\n",
       "      <td>0.9577</td>\n",
       "      <td>2021</td>\n",
       "      <td>6</td>\n",
       "    </tr>\n",
       "    <tr>\n",
       "      <th>1</th>\n",
       "      <td>0x80c2c5e677d98c67:0x9265b3043a2bd2bf</td>\n",
       "      <td>mexican food</td>\n",
       "      <td>los angeles</td>\n",
       "      <td>100595127322961471960</td>\n",
       "      <td>2021-04-25 20:17:03</td>\n",
       "      <td>absolutely fantastic food for all times of the...</td>\n",
       "      <td>california</td>\n",
       "      <td>5</td>\n",
       "      <td>0.5849</td>\n",
       "      <td>2021</td>\n",
       "      <td>4</td>\n",
       "    </tr>\n",
       "    <tr>\n",
       "      <th>2</th>\n",
       "      <td>0x80c2c5e677d98c67:0x9265b3043a2bd2bf</td>\n",
       "      <td>mexican food</td>\n",
       "      <td>los angeles</td>\n",
       "      <td>110587276092890140993</td>\n",
       "      <td>2020-11-04 15:37:10</td>\n",
       "      <td>this is a little gem of a place! very friendly...</td>\n",
       "      <td>california</td>\n",
       "      <td>5</td>\n",
       "      <td>0.9431</td>\n",
       "      <td>2020</td>\n",
       "      <td>11</td>\n",
       "    </tr>\n",
       "    <tr>\n",
       "      <th>3</th>\n",
       "      <td>0x80c2c5e677d98c67:0x9265b3043a2bd2bf</td>\n",
       "      <td>mexican food</td>\n",
       "      <td>los angeles</td>\n",
       "      <td>110405827649419293381</td>\n",
       "      <td>2020-12-18 23:25:37</td>\n",
       "      <td>have only ever tried the tacos here but they a...</td>\n",
       "      <td>california</td>\n",
       "      <td>5</td>\n",
       "      <td>0.9514</td>\n",
       "      <td>2020</td>\n",
       "      <td>12</td>\n",
       "    </tr>\n",
       "    <tr>\n",
       "      <th>4</th>\n",
       "      <td>0x80c2c5e677d98c67:0x9265b3043a2bd2bf</td>\n",
       "      <td>mexican food</td>\n",
       "      <td>los angeles</td>\n",
       "      <td>110897329913233182337</td>\n",
       "      <td>2021-03-08 20:25:47</td>\n",
       "      <td>if you are in the mood for good homemade mexic...</td>\n",
       "      <td>california</td>\n",
       "      <td>5</td>\n",
       "      <td>0.7500</td>\n",
       "      <td>2021</td>\n",
       "      <td>3</td>\n",
       "    </tr>\n",
       "  </tbody>\n",
       "</table>\n",
       "</div>"
      ],
      "text/plain": [
       "                                 gmap_id     categoria       ciudad  \\\n",
       "0  0x80c2c5e677d98c67:0x9265b3043a2bd2bf  mexican food  los angeles   \n",
       "1  0x80c2c5e677d98c67:0x9265b3043a2bd2bf  mexican food  los angeles   \n",
       "2  0x80c2c5e677d98c67:0x9265b3043a2bd2bf  mexican food  los angeles   \n",
       "3  0x80c2c5e677d98c67:0x9265b3043a2bd2bf  mexican food  los angeles   \n",
       "4  0x80c2c5e677d98c67:0x9265b3043a2bd2bf  mexican food  los angeles   \n",
       "\n",
       "                 user_id                time  \\\n",
       "0  111890560677626731427 2021-06-04 23:37:37   \n",
       "1  100595127322961471960 2021-04-25 20:17:03   \n",
       "2  110587276092890140993 2020-11-04 15:37:10   \n",
       "3  110405827649419293381 2020-12-18 23:25:37   \n",
       "4  110897329913233182337 2021-03-08 20:25:47   \n",
       "\n",
       "                                                text      estado  rating  \\\n",
       "0  omg a jewel in the middle of nowhere, excellen...  california       5   \n",
       "1  absolutely fantastic food for all times of the...  california       5   \n",
       "2  this is a little gem of a place! very friendly...  california       5   \n",
       "3  have only ever tried the tacos here but they a...  california       5   \n",
       "4  if you are in the mood for good homemade mexic...  california       5   \n",
       "\n",
       "   sentiment_score   año  mes  \n",
       "0           0.9577  2021    6  \n",
       "1           0.5849  2021    4  \n",
       "2           0.9431  2020   11  \n",
       "3           0.9514  2020   12  \n",
       "4           0.7500  2021    3  "
      ]
     },
     "execution_count": 156,
     "metadata": {},
     "output_type": "execute_result"
    }
   ],
   "source": [
    "df_sin_nulos.head()"
   ]
  },
  {
   "cell_type": "code",
   "execution_count": 157,
   "metadata": {},
   "outputs": [
    {
     "data": {
      "text/plain": [
       "Timestamp('2005-03-02 21:00:00')"
      ]
     },
     "execution_count": 157,
     "metadata": {},
     "output_type": "execute_result"
    }
   ],
   "source": [
    "df_sin_nulos['time'].min()"
   ]
  },
  {
   "cell_type": "code",
   "execution_count": 158,
   "metadata": {},
   "outputs": [
    {
     "data": {
      "text/plain": [
       "Timestamp('2021-09-07 21:05:16')"
      ]
     },
     "execution_count": 158,
     "metadata": {},
     "output_type": "execute_result"
    }
   ],
   "source": [
    "df_sin_nulos['time'].max()"
   ]
  },
  {
   "cell_type": "code",
   "execution_count": 159,
   "metadata": {},
   "outputs": [],
   "source": [
    "#como el dataset abarca muchos año como me quiero concentrar en una recomendacion a futuro me voy a centrar en los comentarios de los utimos 5 años\n",
    "df_filtrado = df_sin_nulos[df_sin_nulos['time'] > pd.to_datetime('2016-01-01')]"
   ]
  },
  {
   "cell_type": "code",
   "execution_count": 160,
   "metadata": {},
   "outputs": [
    {
     "data": {
      "text/plain": [
       "(87654, 11)"
      ]
     },
     "execution_count": 160,
     "metadata": {},
     "output_type": "execute_result"
    }
   ],
   "source": [
    "df_filtrado.shape"
   ]
  },
  {
   "cell_type": "code",
   "execution_count": 161,
   "metadata": {},
   "outputs": [
    {
     "data": {
      "text/html": [
       "<div>\n",
       "<style scoped>\n",
       "    .dataframe tbody tr th:only-of-type {\n",
       "        vertical-align: middle;\n",
       "    }\n",
       "\n",
       "    .dataframe tbody tr th {\n",
       "        vertical-align: top;\n",
       "    }\n",
       "\n",
       "    .dataframe thead th {\n",
       "        text-align: right;\n",
       "    }\n",
       "</style>\n",
       "<table border=\"1\" class=\"dataframe\">\n",
       "  <thead>\n",
       "    <tr style=\"text-align: right;\">\n",
       "      <th></th>\n",
       "      <th>gmap_id</th>\n",
       "      <th>categoria</th>\n",
       "      <th>ciudad</th>\n",
       "      <th>user_id</th>\n",
       "      <th>time</th>\n",
       "      <th>text</th>\n",
       "      <th>estado</th>\n",
       "      <th>rating</th>\n",
       "      <th>sentiment_score</th>\n",
       "      <th>año</th>\n",
       "      <th>mes</th>\n",
       "    </tr>\n",
       "  </thead>\n",
       "  <tbody>\n",
       "    <tr>\n",
       "      <th>0</th>\n",
       "      <td>0x80c2c5e677d98c67:0x9265b3043a2bd2bf</td>\n",
       "      <td>mexican food</td>\n",
       "      <td>los angeles</td>\n",
       "      <td>111890560677626731427</td>\n",
       "      <td>2021-06-04 23:37:37</td>\n",
       "      <td>omg a jewel in the middle of nowhere, excellen...</td>\n",
       "      <td>california</td>\n",
       "      <td>5</td>\n",
       "      <td>0.9577</td>\n",
       "      <td>2021</td>\n",
       "      <td>6</td>\n",
       "    </tr>\n",
       "    <tr>\n",
       "      <th>1</th>\n",
       "      <td>0x80c2c5e677d98c67:0x9265b3043a2bd2bf</td>\n",
       "      <td>mexican food</td>\n",
       "      <td>los angeles</td>\n",
       "      <td>100595127322961471960</td>\n",
       "      <td>2021-04-25 20:17:03</td>\n",
       "      <td>absolutely fantastic food for all times of the...</td>\n",
       "      <td>california</td>\n",
       "      <td>5</td>\n",
       "      <td>0.5849</td>\n",
       "      <td>2021</td>\n",
       "      <td>4</td>\n",
       "    </tr>\n",
       "    <tr>\n",
       "      <th>2</th>\n",
       "      <td>0x80c2c5e677d98c67:0x9265b3043a2bd2bf</td>\n",
       "      <td>mexican food</td>\n",
       "      <td>los angeles</td>\n",
       "      <td>110587276092890140993</td>\n",
       "      <td>2020-11-04 15:37:10</td>\n",
       "      <td>this is a little gem of a place! very friendly...</td>\n",
       "      <td>california</td>\n",
       "      <td>5</td>\n",
       "      <td>0.9431</td>\n",
       "      <td>2020</td>\n",
       "      <td>11</td>\n",
       "    </tr>\n",
       "    <tr>\n",
       "      <th>3</th>\n",
       "      <td>0x80c2c5e677d98c67:0x9265b3043a2bd2bf</td>\n",
       "      <td>mexican food</td>\n",
       "      <td>los angeles</td>\n",
       "      <td>110405827649419293381</td>\n",
       "      <td>2020-12-18 23:25:37</td>\n",
       "      <td>have only ever tried the tacos here but they a...</td>\n",
       "      <td>california</td>\n",
       "      <td>5</td>\n",
       "      <td>0.9514</td>\n",
       "      <td>2020</td>\n",
       "      <td>12</td>\n",
       "    </tr>\n",
       "    <tr>\n",
       "      <th>4</th>\n",
       "      <td>0x80c2c5e677d98c67:0x9265b3043a2bd2bf</td>\n",
       "      <td>mexican food</td>\n",
       "      <td>los angeles</td>\n",
       "      <td>110897329913233182337</td>\n",
       "      <td>2021-03-08 20:25:47</td>\n",
       "      <td>if you are in the mood for good homemade mexic...</td>\n",
       "      <td>california</td>\n",
       "      <td>5</td>\n",
       "      <td>0.7500</td>\n",
       "      <td>2021</td>\n",
       "      <td>3</td>\n",
       "    </tr>\n",
       "  </tbody>\n",
       "</table>\n",
       "</div>"
      ],
      "text/plain": [
       "                                 gmap_id     categoria       ciudad  \\\n",
       "0  0x80c2c5e677d98c67:0x9265b3043a2bd2bf  mexican food  los angeles   \n",
       "1  0x80c2c5e677d98c67:0x9265b3043a2bd2bf  mexican food  los angeles   \n",
       "2  0x80c2c5e677d98c67:0x9265b3043a2bd2bf  mexican food  los angeles   \n",
       "3  0x80c2c5e677d98c67:0x9265b3043a2bd2bf  mexican food  los angeles   \n",
       "4  0x80c2c5e677d98c67:0x9265b3043a2bd2bf  mexican food  los angeles   \n",
       "\n",
       "                 user_id                time  \\\n",
       "0  111890560677626731427 2021-06-04 23:37:37   \n",
       "1  100595127322961471960 2021-04-25 20:17:03   \n",
       "2  110587276092890140993 2020-11-04 15:37:10   \n",
       "3  110405827649419293381 2020-12-18 23:25:37   \n",
       "4  110897329913233182337 2021-03-08 20:25:47   \n",
       "\n",
       "                                                text      estado  rating  \\\n",
       "0  omg a jewel in the middle of nowhere, excellen...  california       5   \n",
       "1  absolutely fantastic food for all times of the...  california       5   \n",
       "2  this is a little gem of a place! very friendly...  california       5   \n",
       "3  have only ever tried the tacos here but they a...  california       5   \n",
       "4  if you are in the mood for good homemade mexic...  california       5   \n",
       "\n",
       "   sentiment_score   año  mes  \n",
       "0           0.9577  2021    6  \n",
       "1           0.5849  2021    4  \n",
       "2           0.9431  2020   11  \n",
       "3           0.9514  2020   12  \n",
       "4           0.7500  2021    3  "
      ]
     },
     "execution_count": 161,
     "metadata": {},
     "output_type": "execute_result"
    }
   ],
   "source": [
    "df_filtrado.head()"
   ]
  },
  {
   "cell_type": "code",
   "execution_count": 162,
   "metadata": {},
   "outputs": [],
   "source": [
    "# Definir umbrales para las categorías sen sentiment_score\n",
    "umbral_negativo = -0.2\n",
    "umbral_positivo = 0.2\n",
    "\n",
    "# Función para asignar la categoría según el valor del sentimiento score\n",
    "def asignar_categoria(sentiment_score):\n",
    "    if sentiment_score < umbral_negativo:\n",
    "        return 0 #'negativo'\n",
    "    elif sentiment_score > umbral_positivo:\n",
    "        return 2 #'positivo'\n",
    "    else:\n",
    "        return 1 #'neutro'\n",
    "\n",
    "# Crear una nueva columna \"sentiment_category\" con las categorías asignadas\n",
    "df_filtrado['sentiment_category'] = df_filtrado['sentiment_score'].apply(asignar_categoria)\n"
   ]
  },
  {
   "cell_type": "code",
   "execution_count": 163,
   "metadata": {},
   "outputs": [
    {
     "data": {
      "text/html": [
       "<div>\n",
       "<style scoped>\n",
       "    .dataframe tbody tr th:only-of-type {\n",
       "        vertical-align: middle;\n",
       "    }\n",
       "\n",
       "    .dataframe tbody tr th {\n",
       "        vertical-align: top;\n",
       "    }\n",
       "\n",
       "    .dataframe thead th {\n",
       "        text-align: right;\n",
       "    }\n",
       "</style>\n",
       "<table border=\"1\" class=\"dataframe\">\n",
       "  <thead>\n",
       "    <tr style=\"text-align: right;\">\n",
       "      <th></th>\n",
       "      <th>gmap_id</th>\n",
       "      <th>categoria</th>\n",
       "      <th>ciudad</th>\n",
       "      <th>user_id</th>\n",
       "      <th>time</th>\n",
       "      <th>text</th>\n",
       "      <th>estado</th>\n",
       "      <th>rating</th>\n",
       "      <th>sentiment_score</th>\n",
       "      <th>año</th>\n",
       "      <th>mes</th>\n",
       "      <th>sentiment_category</th>\n",
       "    </tr>\n",
       "  </thead>\n",
       "  <tbody>\n",
       "    <tr>\n",
       "      <th>0</th>\n",
       "      <td>0x80c2c5e677d98c67:0x9265b3043a2bd2bf</td>\n",
       "      <td>mexican food</td>\n",
       "      <td>los angeles</td>\n",
       "      <td>111890560677626731427</td>\n",
       "      <td>2021-06-04 23:37:37</td>\n",
       "      <td>omg a jewel in the middle of nowhere, excellen...</td>\n",
       "      <td>california</td>\n",
       "      <td>5</td>\n",
       "      <td>0.9577</td>\n",
       "      <td>2021</td>\n",
       "      <td>6</td>\n",
       "      <td>2</td>\n",
       "    </tr>\n",
       "    <tr>\n",
       "      <th>1</th>\n",
       "      <td>0x80c2c5e677d98c67:0x9265b3043a2bd2bf</td>\n",
       "      <td>mexican food</td>\n",
       "      <td>los angeles</td>\n",
       "      <td>100595127322961471960</td>\n",
       "      <td>2021-04-25 20:17:03</td>\n",
       "      <td>absolutely fantastic food for all times of the...</td>\n",
       "      <td>california</td>\n",
       "      <td>5</td>\n",
       "      <td>0.5849</td>\n",
       "      <td>2021</td>\n",
       "      <td>4</td>\n",
       "      <td>2</td>\n",
       "    </tr>\n",
       "    <tr>\n",
       "      <th>2</th>\n",
       "      <td>0x80c2c5e677d98c67:0x9265b3043a2bd2bf</td>\n",
       "      <td>mexican food</td>\n",
       "      <td>los angeles</td>\n",
       "      <td>110587276092890140993</td>\n",
       "      <td>2020-11-04 15:37:10</td>\n",
       "      <td>this is a little gem of a place! very friendly...</td>\n",
       "      <td>california</td>\n",
       "      <td>5</td>\n",
       "      <td>0.9431</td>\n",
       "      <td>2020</td>\n",
       "      <td>11</td>\n",
       "      <td>2</td>\n",
       "    </tr>\n",
       "    <tr>\n",
       "      <th>3</th>\n",
       "      <td>0x80c2c5e677d98c67:0x9265b3043a2bd2bf</td>\n",
       "      <td>mexican food</td>\n",
       "      <td>los angeles</td>\n",
       "      <td>110405827649419293381</td>\n",
       "      <td>2020-12-18 23:25:37</td>\n",
       "      <td>have only ever tried the tacos here but they a...</td>\n",
       "      <td>california</td>\n",
       "      <td>5</td>\n",
       "      <td>0.9514</td>\n",
       "      <td>2020</td>\n",
       "      <td>12</td>\n",
       "      <td>2</td>\n",
       "    </tr>\n",
       "    <tr>\n",
       "      <th>4</th>\n",
       "      <td>0x80c2c5e677d98c67:0x9265b3043a2bd2bf</td>\n",
       "      <td>mexican food</td>\n",
       "      <td>los angeles</td>\n",
       "      <td>110897329913233182337</td>\n",
       "      <td>2021-03-08 20:25:47</td>\n",
       "      <td>if you are in the mood for good homemade mexic...</td>\n",
       "      <td>california</td>\n",
       "      <td>5</td>\n",
       "      <td>0.7500</td>\n",
       "      <td>2021</td>\n",
       "      <td>3</td>\n",
       "      <td>2</td>\n",
       "    </tr>\n",
       "  </tbody>\n",
       "</table>\n",
       "</div>"
      ],
      "text/plain": [
       "                                 gmap_id     categoria       ciudad  \\\n",
       "0  0x80c2c5e677d98c67:0x9265b3043a2bd2bf  mexican food  los angeles   \n",
       "1  0x80c2c5e677d98c67:0x9265b3043a2bd2bf  mexican food  los angeles   \n",
       "2  0x80c2c5e677d98c67:0x9265b3043a2bd2bf  mexican food  los angeles   \n",
       "3  0x80c2c5e677d98c67:0x9265b3043a2bd2bf  mexican food  los angeles   \n",
       "4  0x80c2c5e677d98c67:0x9265b3043a2bd2bf  mexican food  los angeles   \n",
       "\n",
       "                 user_id                time  \\\n",
       "0  111890560677626731427 2021-06-04 23:37:37   \n",
       "1  100595127322961471960 2021-04-25 20:17:03   \n",
       "2  110587276092890140993 2020-11-04 15:37:10   \n",
       "3  110405827649419293381 2020-12-18 23:25:37   \n",
       "4  110897329913233182337 2021-03-08 20:25:47   \n",
       "\n",
       "                                                text      estado  rating  \\\n",
       "0  omg a jewel in the middle of nowhere, excellen...  california       5   \n",
       "1  absolutely fantastic food for all times of the...  california       5   \n",
       "2  this is a little gem of a place! very friendly...  california       5   \n",
       "3  have only ever tried the tacos here but they a...  california       5   \n",
       "4  if you are in the mood for good homemade mexic...  california       5   \n",
       "\n",
       "   sentiment_score   año  mes  sentiment_category  \n",
       "0           0.9577  2021    6                   2  \n",
       "1           0.5849  2021    4                   2  \n",
       "2           0.9431  2020   11                   2  \n",
       "3           0.9514  2020   12                   2  \n",
       "4           0.7500  2021    3                   2  "
      ]
     },
     "execution_count": 163,
     "metadata": {},
     "output_type": "execute_result"
    }
   ],
   "source": [
    "df_filtrado.head()"
   ]
  },
  {
   "cell_type": "code",
   "execution_count": 164,
   "metadata": {},
   "outputs": [
    {
     "data": {
      "text/plain": [
       "(87654, 12)"
      ]
     },
     "execution_count": 164,
     "metadata": {},
     "output_type": "execute_result"
    }
   ],
   "source": [
    "df_filtrado.shape"
   ]
  },
  {
   "cell_type": "code",
   "execution_count": 165,
   "metadata": {},
   "outputs": [],
   "source": [
    "# Seleccionar las columnas para aplicar la codificación one-hot\n",
    "columnas_codificar = ['categoria', 'estado','ciudad']\n",
    "\n",
    "# Aplicar la codificación one-hot a las columnas seleccionadas\n",
    "df_encoded = pd.get_dummies(df_filtrado[columnas_codificar])\n",
    "\n",
    "# Concatenar las columnas codificadas con el resto del DataFrame\n",
    "df_encoded = pd.concat([df_filtrado.drop(columns=columnas_codificar), df_encoded], axis=1)"
   ]
  },
  {
   "cell_type": "markdown",
   "metadata": {},
   "source": [
    "Realizo una matriz de correlacion para ver la relacion de las columnas con el target que es sentiment_score"
   ]
  },
  {
   "cell_type": "code",
   "execution_count": 166,
   "metadata": {},
   "outputs": [],
   "source": [
    "# # Calcular la matriz de correlación\n",
    "# matriz_correlacion = df_encoded.corr()\n",
    "\n",
    "# # Crear una figura y establecer el tamaño\n",
    "# plt.figure(figsize=(10, 8))\n",
    "\n",
    "# # Graficar la matriz de correlación\n",
    "# sns.heatmap(matriz_correlacion, annot=True, cmap='coolwarm')\n",
    "\n",
    "# # Mostrar la gráfica\n",
    "# plt.show()"
   ]
  },
  {
   "cell_type": "markdown",
   "metadata": {},
   "source": [
    "Con el codigo que sigue separo en X e y el dataset. Tambien separa en cjto de entrenemiento y testeo (el testeo solo lo uso para validar el mejor modelo).Con GridSearch pruebo varios algoritmos de clasificacion y con cross_val pruebo distintos cjtos de entrenamiento y testeo dentro del cjto de entrenamiento con eso evaluo cual es el mejor modelo para trabajar"
   ]
  },
  {
   "cell_type": "code",
   "execution_count": 167,
   "metadata": {},
   "outputs": [],
   "source": [
    "# filtro con los 500 lugares con mas reseñas de casi 6000 \n",
    "top_500_values = df_filtrado['gmap_id'].value_counts().head(500).index.tolist()\n",
    "\n",
    "# Filtrar el DataFrame con los valores más recurrentes\n",
    "df_filtrado = df_filtrado[df_filtrado['gmap_id'].isin(top_500_values)]\n"
   ]
  },
  {
   "cell_type": "code",
   "execution_count": 168,
   "metadata": {},
   "outputs": [
    {
     "data": {
      "text/plain": [
       "(43038, 12)"
      ]
     },
     "execution_count": 168,
     "metadata": {},
     "output_type": "execute_result"
    }
   ],
   "source": [
    "df_filtrado.shape"
   ]
  },
  {
   "cell_type": "code",
   "execution_count": 169,
   "metadata": {},
   "outputs": [],
   "source": [
    "from sklearn.utils import resample\n",
    "\n",
    "# Calcular la cantidad de registros por clase en el dataset original\n",
    "class_counts = df_filtrado['rating'].value_counts()\n",
    "\n",
    "# Definir el número total de muestras deseado\n",
    "total_samples = 10000\n",
    "\n",
    "# Inicializar una lista para almacenar las muestras\n",
    "samples = []\n",
    "\n",
    "# Realizar el muestreo estratificado para cada clase\n",
    "for class_label, count in class_counts.items():\n",
    "    # Calcular el número de muestras a tomar proporcional a la cantidad de registros de la clase en el dataset original\n",
    "    sample_size = int(total_samples * (count / len(df_filtrado['rating'])))\n",
    "    \n",
    "    # Realizar el muestreo estratificado para la clase actual\n",
    "    class_samples = resample(df_filtrado[df_filtrado['rating'] == class_label], n_samples=sample_size, replace=False, random_state=42)\n",
    "    \n",
    "    # Agregar las muestras al conjunto de muestras\n",
    "    samples.append(class_samples)\n",
    "\n",
    "# Concatenar todas las muestras en un único DataFrame\n",
    "df_sample = pd.concat(samples)\n"
   ]
  },
  {
   "cell_type": "code",
   "execution_count": 170,
   "metadata": {},
   "outputs": [
    {
     "name": "stdout",
     "output_type": "stream",
     "text": [
      "5    5781\n",
      "4    2020\n",
      "3     958\n",
      "1     794\n",
      "2     444\n",
      "Name: rating, dtype: int64\n"
     ]
    }
   ],
   "source": [
    "class_counts = pd.Series(df_sample['rating']).value_counts()\n",
    "print(class_counts)"
   ]
  },
  {
   "cell_type": "code",
   "execution_count": 171,
   "metadata": {},
   "outputs": [
    {
     "name": "stdout",
     "output_type": "stream",
     "text": [
      "Mejor modelo: LogisticRegression()\n",
      "Mejores hiperparámetros: {'C': 1.0, 'class_weight': None, 'dual': False, 'fit_intercept': True, 'intercept_scaling': 1, 'l1_ratio': None, 'max_iter': 100, 'multi_class': 'auto', 'n_jobs': None, 'penalty': 'l2', 'random_state': None, 'solver': 'lbfgs', 'tol': 0.0001, 'verbose': 0, 'warm_start': False}\n",
      "Precisión en los datos de prueba: 0.5775\n"
     ]
    }
   ],
   "source": [
    "#modelo con categorias desbalanceadas en el train\n",
    "from sklearn.model_selection import cross_val_score, GridSearchCV, train_test_split\n",
    "from sklearn.preprocessing import StandardScaler, OneHotEncoder, LabelEncoder\n",
    "from sklearn.compose import ColumnTransformer\n",
    "from sklearn.tree import DecisionTreeClassifier\n",
    "from sklearn.ensemble import RandomForestClassifier\n",
    "from sklearn.naive_bayes import GaussianNB\n",
    "from sklearn.linear_model import LogisticRegression\n",
    "from sklearn.svm import SVC\n",
    "from sklearn.neighbors import KNeighborsClassifier\n",
    "from xgboost import XGBClassifier\n",
    "from sklearn.metrics import accuracy_score\n",
    "from imblearn.under_sampling import RandomUnderSampler\n",
    "from imblearn.over_sampling import RandomOverSampler\n",
    "import warnings\n",
    "warnings.filterwarnings('ignore')\n",
    "\n",
    "# Encode the target variable\n",
    "label_encoder = LabelEncoder()\n",
    "df_sample['rating_encoded'] = label_encoder.fit_transform(df_sample['rating'])\n",
    "\n",
    "X = df_sample[['año', 'mes', 'estado', 'ciudad','categoria']]\n",
    "y = df_sample['rating_encoded']\n",
    "\n",
    "# Dividir los datos en conjuntos de entrenamiento y prueba\n",
    "X_train, X_test, y_train, y_test = train_test_split(X, y, test_size=0.2, random_state=42, stratify=y)\n",
    "\n",
    "# Definir las columnas numéricas y categóricas\n",
    "numeric_features = ['año', 'mes']\n",
    "categorical_features = ['estado', 'ciudad', 'categoria']\n",
    "\n",
    "# Aplicar StandardScaler a las columnas numéricas\n",
    "scaler = StandardScaler()\n",
    "X_train_scaled = scaler.fit_transform(X_train[numeric_features])\n",
    "X_test_scaled = scaler.transform(X_test[numeric_features])\n",
    "\n",
    "# Aplicar OneHotEncoder a las columnas categóricas\n",
    "ohe = OneHotEncoder(drop='first')\n",
    "X_train_encoded = ohe.fit_transform(X_train[categorical_features])\n",
    "X_test_encoded = ohe.transform(X_test[categorical_features])\n",
    "\n",
    "# Combinar características escaladas y codificadas\n",
    "X_train_transformed = np.concatenate([X_train_scaled, X_train_encoded.toarray()], axis=1)\n",
    "X_test_transformed = np.concatenate([X_test_scaled, X_test_encoded.toarray()], axis=1)\n",
    "\n",
    "# Definir los modelos a probar y sus respectivos parámetros\n",
    "models = [\n",
    "    ('Decision Tree', DecisionTreeClassifier(), {'max_depth': [10, 15, 25]}),\n",
    "    ('Random Forest', RandomForestClassifier(), {'n_estimators': [50, 100, 200]}),\n",
    "    ('Naive Bayes', GaussianNB(), {}),\n",
    "    ('Logistic Regression', LogisticRegression(), {'C': [1.0, 0.5, 0.1]}),\n",
    "    ('SVM', SVC(), {'C': [1.0, 0.5, 0.1], 'kernel': ['linear', 'rbf']}),\n",
    "    #('KNN', KNeighborsClassifier(), {'n_neighbors': [3, 5, 7]}),\n",
    "    ('XGBoost', XGBClassifier(), {'max_depth': [10, 15, 25]})\n",
    "]\n",
    "\n",
    "# Realizar la búsqueda de hiperparámetros y seleccionar el mejor modelo\n",
    "best_model = None\n",
    "best_accuracy = 0.0\n",
    "\n",
    "for name, model, params in models:\n",
    "    grid_search = GridSearchCV(model, params, cv=5, scoring='accuracy')\n",
    "\n",
    "    accuracy_scores = cross_val_score(grid_search, X_train_transformed, y_train, cv=5)\n",
    "    avg_accuracy = accuracy_scores.mean()\n",
    "\n",
    "    if avg_accuracy > best_accuracy:\n",
    "        best_model = model\n",
    "        best_accuracy = avg_accuracy\n",
    "\n",
    "# Ajustar el mejor modelo en los datos de entrenamiento\n",
    "best_model.fit(X_train_transformed, y_train)\n",
    "\n",
    "# Predecir los datos de prueba\n",
    "y_pred = best_model.predict(X_test_transformed)\n",
    "\n",
    "# Calcular la precisión en los datos de prueba\n",
    "accuracy = accuracy_score(y_test, y_pred)\n",
    "\n",
    "print(\"Mejor modelo:\", best_model)\n",
    "print(\"Mejores hiperparámetros:\", best_model.get_params())\n",
    "print(\"Precisión en los datos de prueba:\", accuracy)"
   ]
  },
  {
   "cell_type": "code",
   "execution_count": 172,
   "metadata": {},
   "outputs": [
    {
     "data": {
      "image/png": "[encoded data removed]",
      "text/plain": [
       "<Figure size 640x480 with 2 Axes>"
      ]
     },
     "metadata": {},
     "output_type": "display_data"
    }
   ],
   "source": [
    "from sklearn.metrics import confusion_matrix\n",
    "# Calcular la matriz de confusión\n",
    "confusion_mat = confusion_matrix(y_test, y_pred)\n",
    "# Mostrar la matriz de confusión con seaborn\n",
    "sns.heatmap(confusion_mat, annot=True, fmt='d', cmap='Blues')\n",
    "# Configurar los ejes y el título\n",
    "plt.xlabel('Predicted')\n",
    "plt.ylabel('Actual')\n",
    "plt.title('Matriz de Confusión')\n",
    "# Mostrar la gráfica\n",
    "plt.show()"
   ]
  },
  {
   "cell_type": "code",
   "execution_count": 173,
   "metadata": {},
   "outputs": [
    {
     "name": "stdout",
     "output_type": "stream",
     "text": [
      "Mejor modelo: RandomForestClassifier()\n",
      "Mejores hiperparámetros: {'bootstrap': True, 'ccp_alpha': 0.0, 'class_weight': None, 'criterion': 'gini', 'max_depth': None, 'max_features': 'auto', 'max_leaf_nodes': None, 'max_samples': None, 'min_impurity_decrease': 0.0, 'min_samples_leaf': 1, 'min_samples_split': 2, 'min_weight_fraction_leaf': 0.0, 'n_estimators': 100, 'n_jobs': None, 'oob_score': False, 'random_state': None, 'verbose': 0, 'warm_start': False}\n",
      "Precisión en los datos de prueba: 0.279\n"
     ]
    }
   ],
   "source": [
    "#modelo con under y oversampling en el train ya que al modelo anterior le cuesta identificar a las clases minoritarias\n",
    "from sklearn.model_selection import cross_val_score, GridSearchCV, train_test_split\n",
    "from sklearn.preprocessing import StandardScaler, OneHotEncoder, LabelEncoder\n",
    "from sklearn.compose import ColumnTransformer\n",
    "from sklearn.tree import DecisionTreeClassifier\n",
    "from sklearn.ensemble import RandomForestClassifier\n",
    "from sklearn.naive_bayes import GaussianNB\n",
    "from sklearn.linear_model import LogisticRegression\n",
    "from sklearn.svm import SVC\n",
    "from sklearn.neighbors import KNeighborsClassifier\n",
    "from xgboost import XGBClassifier\n",
    "from sklearn.metrics import accuracy_score\n",
    "from sklearn.utils import resample\n",
    "import warnings\n",
    "warnings.filterwarnings('ignore')\n",
    "\n",
    "# Encode the target variable\n",
    "label_encoder = LabelEncoder()\n",
    "df_sample['rating_encoded'] = label_encoder.fit_transform(df_sample['rating'])\n",
    "\n",
    "X = df_sample[['año', 'mes', 'estado', 'ciudad','categoria']]\n",
    "y = df_sample['rating_encoded']\n",
    "\n",
    "# Dividir los datos en conjuntos de entrenamiento y prueba\n",
    "X_train, X_test, y_train, y_test = train_test_split(X, y, test_size=0.2, random_state=42, stratify=y)\n",
    "\n",
    "# Definir las columnas numéricas y categóricas\n",
    "numeric_features = ['año', 'mes']\n",
    "categorical_features = ['estado', 'ciudad','categoria']\n",
    "\n",
    "# Aplicar StandardScaler a las columnas numéricas\n",
    "scaler = StandardScaler()\n",
    "X_train_scaled = scaler.fit_transform(X_train[numeric_features])\n",
    "X_test_scaled = scaler.transform(X_test[numeric_features])\n",
    "\n",
    "# Aplicar OneHotEncoder a las columnas categóricas\n",
    "ohe = OneHotEncoder(drop='first')\n",
    "X_train_encoded = ohe.fit_transform(X_train[categorical_features])\n",
    "X_test_encoded = ohe.transform(X_test[categorical_features])\n",
    "\n",
    "# Combinar características escaladas y codificadas\n",
    "X_train_transformed = np.concatenate([X_train_scaled, X_train_encoded.toarray()], axis=1)\n",
    "X_test_transformed = np.concatenate([X_test_scaled, X_test_encoded.toarray()], axis=1)\n",
    "\n",
    "# Obtener el índice de la categoría con más registros\n",
    "category_max = pd.Series(y_train).value_counts().idxmax()\n",
    "\n",
    "# Definir el número deseado de registros en cada categoría\n",
    "desired_samples = 2000\n",
    "desired_samples_2 = 2000\n",
    "\n",
    "# Filtrar los registros de la clase mayoritaria\n",
    "X_train_majority = X_train_transformed[y_train == category_max]\n",
    "y_train_majority = y_train[y_train == category_max]\n",
    "\n",
    "# Realizar undersampling en la clase mayoritaria para reducir a 1000 registros\n",
    "X_train_majority_downsampled, y_train_majority_downsampled = resample(\n",
    "    X_train_majority, y_train_majority, n_samples=desired_samples, random_state=42\n",
    ")\n",
    "\n",
    "# Inicializar listas para almacenar los datos sobremuestreados\n",
    "X_train_oversampled = []\n",
    "y_train_oversampled = []\n",
    "\n",
    "# Realizar oversampling en las clases minoritarias para obtener 1000 registros\n",
    "for category in y_train.unique():\n",
    "    if category == category_max:\n",
    "        continue\n",
    "    X_train_minority = X_train_transformed[y_train == category]\n",
    "    y_train_minority = y_train[y_train == category]\n",
    "    X_train_oversampled_minority, y_train_oversampled_minority = resample(\n",
    "        X_train_minority, y_train_minority, n_samples=desired_samples_2, random_state=42\n",
    "    )\n",
    "    X_train_oversampled.append(X_train_oversampled_minority)\n",
    "    y_train_oversampled.append(y_train_oversampled_minority)\n",
    "\n",
    "# Combinar los datos de la clase mayoritaria reducida y las clases minoritarias sobremuestreadas\n",
    "X_train_combined = np.concatenate([X_train_majority_downsampled] + X_train_oversampled)\n",
    "y_train_combined = np.concatenate([y_train_majority_downsampled] + y_train_oversampled)\n",
    "\n",
    "# Definir los modelos a probar y sus respectivos parámetros\n",
    "models = [\n",
    "    ('Decision Tree', DecisionTreeClassifier(), {'max_depth': [5, 10, 15, 25]}),\n",
    "    ('Random Forest', RandomForestClassifier(), {'n_estimators': [50, 100, 200]}),\n",
    "    ('Naive Bayes', GaussianNB(), {}),\n",
    "    ('Logistic Regression', LogisticRegression(), {'C': [1.0, 0.5, 0.1]}),\n",
    "    ('SVM', SVC(), {'C': [1.0, 0.5, 0.1], 'kernel': ['linear', 'rbf']}),\n",
    "    ('XGBoost', XGBClassifier(), {'max_depth': [5, 10, 15, 5]})\n",
    "]\n",
    "\n",
    "# Realizar la búsqueda de hiperparámetros y seleccionar el mejor modelo\n",
    "best_model = None\n",
    "best_accuracy = 0.0\n",
    "\n",
    "for name, model, params in models:\n",
    "    grid_search = GridSearchCV(model, params, cv=5, scoring='accuracy')\n",
    "\n",
    "    accuracy_scores = cross_val_score(grid_search, X_train_combined, y_train_combined, cv=5)\n",
    "    avg_accuracy = accuracy_scores.mean()\n",
    "\n",
    "    if avg_accuracy > best_accuracy:\n",
    "        best_model = model\n",
    "        best_accuracy = avg_accuracy\n",
    "\n",
    "# Ajustar el mejor modelo en los datos de entrenamiento combinados\n",
    "best_model.fit(X_train_combined, y_train_combined)\n",
    "\n",
    "# Predecir los datos de prueba\n",
    "y_pred = best_model.predict(X_test_transformed)\n",
    "\n",
    "# Calcular la precisión en los datos de prueba\n",
    "accuracy = accuracy_score(y_test, y_pred)\n",
    "\n",
    "print(\"Mejor modelo:\", best_model)\n",
    "print(\"Mejores hiperparámetros:\", best_model.get_params())\n",
    "print(\"Precisión en los datos de prueba:\", accuracy)\n"
   ]
  },
  {
   "cell_type": "code",
   "execution_count": 181,
   "metadata": {},
   "outputs": [
    {
     "data": {
      "image/png": "[encoded data removed]",
      "text/plain": [
       "<Figure size 640x480 with 2 Axes>"
      ]
     },
     "metadata": {},
     "output_type": "display_data"
    }
   ],
   "source": [
    "from sklearn.metrics import confusion_matrix\n",
    "# Calcular la matriz de confusión\n",
    "confusion_mat = confusion_matrix(y_test, y_pred)\n",
    "# Mostrar la matriz de confusión con seaborn\n",
    "sns.heatmap(confusion_mat, annot=True, fmt='d', cmap='Blues')\n",
    "# Configurar los ejes y el título\n",
    "plt.xlabel('Predicted')\n",
    "plt.ylabel('Actual')\n",
    "plt.title('Matriz de Confusión')\n",
    "# Mostrar la gráfica\n",
    "plt.show()"
   ]
  },
  {
   "cell_type": "code",
   "execution_count": 175,
   "metadata": {},
   "outputs": [
    {
     "data": {
      "text/plain": [
       "' #disminuyo la cantidad de registros de la clase mayoritaria porque le cuesta predecir las otras clases\\nfrom sklearn.model_selection import cross_val_score, GridSearchCV, train_test_split\\nfrom sklearn.preprocessing import StandardScaler, OneHotEncoder, LabelEncoder\\nfrom sklearn.compose import ColumnTransformer\\nfrom sklearn.tree import DecisionTreeClassifier\\nfrom sklearn.ensemble import RandomForestClassifier\\nfrom sklearn.naive_bayes import GaussianNB\\nfrom sklearn.linear_model import LogisticRegression\\nfrom sklearn.svm import SVC\\nfrom sklearn.neighbors import KNeighborsClassifier\\nfrom xgboost import XGBClassifier\\nfrom sklearn.metrics import accuracy_score\\nfrom sklearn.utils import resample\\nimport warnings\\nwarnings.filterwarnings(\\'ignore\\')\\n\\n# Encode the target variable\\nlabel_encoder = LabelEncoder()\\ndf_sample[\\'rating_encoded\\'] = label_encoder.fit_transform(df_sample[\\'rating\\'])\\n\\nX = df_sample[[\\'año\\', \\'mes\\', \\'estado\\', \\'ciudad\\', \\'categoria\\']]\\ny = df_sample[\\'rating_encoded\\']\\n\\n# Dividir los datos en conjuntos de entrenamiento y prueba\\nX_train, X_test, y_train, y_test = train_test_split(X, y, test_size=0.2, random_state=42, stratify=y)\\n\\n# Definir las columnas numéricas y categóricas\\nnumeric_features = [\\'año\\', \\'mes\\']\\ncategorical_features = [\\'estado\\', \\'ciudad\\', \\'categoria\\']\\n\\n# Aplicar StandardScaler a las columnas numéricas\\nscaler = StandardScaler()\\nX_train_scaled = scaler.fit_transform(X_train[numeric_features])\\nX_test_scaled = scaler.transform(X_test[numeric_features])\\n\\n# Aplicar OneHotEncoder a las columnas categóricas\\nohe = OneHotEncoder(drop=\\'first\\')\\nX_train_encoded = ohe.fit_transform(X_train[categorical_features])\\nX_test_encoded = ohe.transform(X_test[categorical_features])\\n\\n# Combinar características escaladas y codificadas\\nX_train_transformed = np.concatenate([X_train_scaled, X_train_encoded.toarray()], axis=1)\\nX_test_transformed = np.concatenate([X_test_scaled, X_test_encoded.toarray()], axis=1)\\n\\n# Obtener el índice de la categoría con más registros\\ncategory_max = pd.Series(y_train).value_counts().idxmax()\\n\\n# Filtrar los registros de la clase mayoritaria\\nX_train_majority = X_train_transformed[y_train == category_max]\\ny_train_majority = y_train[y_train == category_max]\\n\\n# Realizar undersampling en la clase mayoritaria para reducir a 1000 registros\\nX_train_majority_downsampled, y_train_majority_downsampled = resample(\\n    X_train_majority, y_train_majority, n_samples=2500, random_state=42\\n)\\n\\n# Filtrar los registros correspondientes al resto de las categorías\\nX_train_rest_categories = X_train_transformed[y_train != category_max]\\ny_train_rest_categories = y_train[y_train != category_max]\\n\\n# Combinar los datos de la clase mayoritaria reducida y las categorías restantes\\nX_train_combined = np.concatenate([X_train_majority_downsampled, X_train_rest_categories])\\ny_train_combined = np.concatenate([y_train_majority_downsampled, y_train_rest_categories])\\n\\n# Definir los modelos a probar y sus respectivos parámetros\\nmodels = [\\n    (\\'Decision Tree\\', DecisionTreeClassifier(), {\\'max_depth\\': [10, 15, 25]}),\\n    (\\'Random Forest\\', RandomForestClassifier(), {\\'n_estimators\\': [50, 100, 200]}),\\n    (\\'Naive Bayes\\', GaussianNB(), {}),\\n    (\\'Logistic Regression\\', LogisticRegression(), {\\'C\\': [1.0, 0.5, 0.1]}),\\n    (\\'SVM\\', SVC(), {\\'C\\': [1.0, 0.5, 0.1], \\'kernel\\': [\\'linear\\', \\'rbf\\']}),\\n    (\\'XGBoost\\', XGBClassifier(), {\\'max_depth\\': [10, 15, 25]})\\n]\\n\\n# Realizar la búsqueda de hiperparámetros y seleccionar el mejor modelo\\nbest_model = None\\nbest_accuracy = 0.0\\n\\nfor name, model, params in models:\\n    grid_search = GridSearchCV(model, params, cv=5, scoring=\\'accuracy\\')\\n\\n    accuracy_scores = cross_val_score(grid_search, X_train_combined, y_train_combined, cv=5)\\n    avg_accuracy = accuracy_scores.mean()\\n\\n    if avg_accuracy > best_accuracy:\\n        best_model = model\\n        best_accuracy = avg_accuracy\\n\\n# Ajustar el mejor modelo en los datos de entrenamiento combinados\\nbest_model.fit(X_train_combined, y_train_combined)\\n\\n# Predecir los datos de prueba\\ny_pred = best_model.predict(X_test_transformed)\\n\\n# Calcular la precisión en los datos de prueba\\naccuracy = accuracy_score(y_test, y_pred)\\n\\nprint(\"Mejor modelo:\", best_model)\\nprint(\"Mejores hiperparámetros:\", best_model.get_params())\\nprint(\"Precisión en los datos de prueba:\", accuracy) '"
      ]
     },
     "execution_count": 175,
     "metadata": {},
     "output_type": "execute_result"
    }
   ],
   "source": [
    "\"\"\" #disminuyo la cantidad de registros de la clase mayoritaria porque le cuesta predecir las otras clases\n",
    "from sklearn.model_selection import cross_val_score, GridSearchCV, train_test_split\n",
    "from sklearn.preprocessing import StandardScaler, OneHotEncoder, LabelEncoder\n",
    "from sklearn.compose import ColumnTransformer\n",
    "from sklearn.tree import DecisionTreeClassifier\n",
    "from sklearn.ensemble import RandomForestClassifier\n",
    "from sklearn.naive_bayes import GaussianNB\n",
    "from sklearn.linear_model import LogisticRegression\n",
    "from sklearn.svm import SVC\n",
    "from sklearn.neighbors import KNeighborsClassifier\n",
    "from xgboost import XGBClassifier\n",
    "from sklearn.metrics import accuracy_score\n",
    "from sklearn.utils import resample\n",
    "import warnings\n",
    "warnings.filterwarnings('ignore')\n",
    "\n",
    "# Encode the target variable\n",
    "label_encoder = LabelEncoder()\n",
    "df_sample['rating_encoded'] = label_encoder.fit_transform(df_sample['rating'])\n",
    "\n",
    "X = df_sample[['año', 'mes', 'estado', 'ciudad', 'categoria']]\n",
    "y = df_sample['rating_encoded']\n",
    "\n",
    "# Dividir los datos en conjuntos de entrenamiento y prueba\n",
    "X_train, X_test, y_train, y_test = train_test_split(X, y, test_size=0.2, random_state=42, stratify=y)\n",
    "\n",
    "# Definir las columnas numéricas y categóricas\n",
    "numeric_features = ['año', 'mes']\n",
    "categorical_features = ['estado', 'ciudad', 'categoria']\n",
    "\n",
    "# Aplicar StandardScaler a las columnas numéricas\n",
    "scaler = StandardScaler()\n",
    "X_train_scaled = scaler.fit_transform(X_train[numeric_features])\n",
    "X_test_scaled = scaler.transform(X_test[numeric_features])\n",
    "\n",
    "# Aplicar OneHotEncoder a las columnas categóricas\n",
    "ohe = OneHotEncoder(drop='first')\n",
    "X_train_encoded = ohe.fit_transform(X_train[categorical_features])\n",
    "X_test_encoded = ohe.transform(X_test[categorical_features])\n",
    "\n",
    "# Combinar características escaladas y codificadas\n",
    "X_train_transformed = np.concatenate([X_train_scaled, X_train_encoded.toarray()], axis=1)\n",
    "X_test_transformed = np.concatenate([X_test_scaled, X_test_encoded.toarray()], axis=1)\n",
    "\n",
    "# Obtener el índice de la categoría con más registros\n",
    "category_max = pd.Series(y_train).value_counts().idxmax()\n",
    "\n",
    "# Filtrar los registros de la clase mayoritaria\n",
    "X_train_majority = X_train_transformed[y_train == category_max]\n",
    "y_train_majority = y_train[y_train == category_max]\n",
    "\n",
    "# Realizar undersampling en la clase mayoritaria para reducir a 1000 registros\n",
    "X_train_majority_downsampled, y_train_majority_downsampled = resample(\n",
    "    X_train_majority, y_train_majority, n_samples=2500, random_state=42\n",
    ")\n",
    "\n",
    "# Filtrar los registros correspondientes al resto de las categorías\n",
    "X_train_rest_categories = X_train_transformed[y_train != category_max]\n",
    "y_train_rest_categories = y_train[y_train != category_max]\n",
    "\n",
    "# Combinar los datos de la clase mayoritaria reducida y las categorías restantes\n",
    "X_train_combined = np.concatenate([X_train_majority_downsampled, X_train_rest_categories])\n",
    "y_train_combined = np.concatenate([y_train_majority_downsampled, y_train_rest_categories])\n",
    "\n",
    "# Definir los modelos a probar y sus respectivos parámetros\n",
    "models = [\n",
    "    ('Decision Tree', DecisionTreeClassifier(), {'max_depth': [10, 15, 25]}),\n",
    "    ('Random Forest', RandomForestClassifier(), {'n_estimators': [50, 100, 200]}),\n",
    "    ('Naive Bayes', GaussianNB(), {}),\n",
    "    ('Logistic Regression', LogisticRegression(), {'C': [1.0, 0.5, 0.1]}),\n",
    "    ('SVM', SVC(), {'C': [1.0, 0.5, 0.1], 'kernel': ['linear', 'rbf']}),\n",
    "    ('XGBoost', XGBClassifier(), {'max_depth': [10, 15, 25]})\n",
    "]\n",
    "\n",
    "# Realizar la búsqueda de hiperparámetros y seleccionar el mejor modelo\n",
    "best_model = None\n",
    "best_accuracy = 0.0\n",
    "\n",
    "for name, model, params in models:\n",
    "    grid_search = GridSearchCV(model, params, cv=5, scoring='accuracy')\n",
    "\n",
    "    accuracy_scores = cross_val_score(grid_search, X_train_combined, y_train_combined, cv=5)\n",
    "    avg_accuracy = accuracy_scores.mean()\n",
    "\n",
    "    if avg_accuracy > best_accuracy:\n",
    "        best_model = model\n",
    "        best_accuracy = avg_accuracy\n",
    "\n",
    "# Ajustar el mejor modelo en los datos de entrenamiento combinados\n",
    "best_model.fit(X_train_combined, y_train_combined)\n",
    "\n",
    "# Predecir los datos de prueba\n",
    "y_pred = best_model.predict(X_test_transformed)\n",
    "\n",
    "# Calcular la precisión en los datos de prueba\n",
    "accuracy = accuracy_score(y_test, y_pred)\n",
    "\n",
    "print(\"Mejor modelo:\", best_model)\n",
    "print(\"Mejores hiperparámetros:\", best_model.get_params())\n",
    "print(\"Precisión en los datos de prueba:\", accuracy) \"\"\""
   ]
  },
  {
   "cell_type": "code",
   "execution_count": 176,
   "metadata": {},
   "outputs": [
    {
     "data": {
      "text/plain": [
       "\" from sklearn.metrics import confusion_matrix\\n\\n# Calcular la matriz de confusión\\nconfusion_mat = confusion_matrix(y_test, y_pred)\\n\\n# Mostrar la matriz de confusión con seaborn\\nsns.heatmap(confusion_mat, annot=True, fmt='d', cmap='Blues')\\n\\n# Configurar los ejes y el título\\nplt.xlabel('Predicted')\\nplt.ylabel('Actual')\\nplt.title('Matriz de Confusión')\\n\\n# Mostrar la gráfica\\nplt.show() \""
      ]
     },
     "execution_count": 176,
     "metadata": {},
     "output_type": "execute_result"
    }
   ],
   "source": [
    "\"\"\" from sklearn.metrics import confusion_matrix\n",
    "\n",
    "# Calcular la matriz de confusión\n",
    "confusion_mat = confusion_matrix(y_test, y_pred)\n",
    "\n",
    "# Mostrar la matriz de confusión con seaborn\n",
    "sns.heatmap(confusion_mat, annot=True, fmt='d', cmap='Blues')\n",
    "\n",
    "# Configurar los ejes y el título\n",
    "plt.xlabel('Predicted')\n",
    "plt.ylabel('Actual')\n",
    "plt.title('Matriz de Confusión')\n",
    "\n",
    "# Mostrar la gráfica\n",
    "plt.show() \"\"\""
   ]
  },
  {
   "cell_type": "code",
   "execution_count": 185,
   "metadata": {},
   "outputs": [
    {
     "data": {
      "text/plain": [
       "array(['mexican food', 'bar', 'thai food', 'italian food', 'fast food',\n",
       "       'coffee shop', 'vegan food', 'chinese food', 'japanese food',\n",
       "       'hotel', 'apart'], dtype=object)"
      ]
     },
     "execution_count": 185,
     "metadata": {},
     "output_type": "execute_result"
    }
   ],
   "source": [
    "df_filtrado['categoria'].unique()"
   ]
  },
  {
   "cell_type": "code",
   "execution_count": 208,
   "metadata": {},
   "outputs": [
    {
     "data": {
      "text/plain": [
       "array(['santa ana', 'san jose', 'san francisco', 'stockton',\n",
       "       'los angeles', 'sacramento', 'las vegas', 'chula vista', 'fremont',\n",
       "       'modesto', 'long beach', 'riverside', 'reno', 'fresno', 'anaheim',\n",
       "       'bakersfield', 'irvine', 'san diego', 'henderson',\n",
       "       'san bernardino', 'fontana', 'sparks', 'elko', 'north las vegas',\n",
       "       'fernley', 'carson city', 'oakland', 'boulder city', 'oxnard',\n",
       "       'mesquite'], dtype=object)"
      ]
     },
     "execution_count": 208,
     "metadata": {},
     "output_type": "execute_result"
    }
   ],
   "source": [
    "df_filtrado['ciudad'].unique()"
   ]
  },
  {
   "cell_type": "markdown",
   "metadata": {},
   "source": [
    "Pruebo mi mejor algoritmo para responder a la pregunta: Si abro un fast food en mesquite, tengo buenos competidores? Esa puntacion que probabilidad tiene de ocurrencia tiene? Si la puntacion no es buena o la probabilidad no es la deseada con una nube de palabras evaluo puntos de mejora filtrando por los puntajes mas bajos y asi sacar ventaja competitiva..."
   ]
  },
  {
   "cell_type": "code",
   "execution_count": 244,
   "metadata": {},
   "outputs": [
    {
     "name": "stdout",
     "output_type": "stream",
     "text": [
      "Predicted Rating: [2]\n"
     ]
    }
   ],
   "source": [
    "# New sample\n",
    "new_sample = pd.DataFrame({'año': [2023], 'mes': [6], 'estado': ['nevada'], 'ciudad': ['mesquite'], 'categoria': ['fast food']})\n",
    "\n",
    "# Apply StandardScaler to the numeric features\n",
    "new_sample_scaled = scaler.transform(new_sample[numeric_features])\n",
    "\n",
    "# Apply OneHotEncoder to the categorical features\n",
    "new_sample_encoded = ohe.transform(new_sample[categorical_features])\n",
    "\n",
    "# Combine the scaled and encoded features\n",
    "new_sample_transformed = np.concatenate([new_sample_scaled, new_sample_encoded.toarray()], axis=1)\n",
    "\n",
    "# Predict with the best model\n",
    "prediction = best_model.predict(new_sample_transformed)\n",
    "\n",
    "# Decode the predicted label\n",
    "predicted_rating = label_encoder.inverse_transform(prediction)\n",
    "\n",
    "print(\"Predicted Rating:\", predicted_rating)\n"
   ]
  },
  {
   "cell_type": "code",
   "execution_count": 245,
   "metadata": {},
   "outputs": [
    {
     "name": "stdout",
     "output_type": "stream",
     "text": [
      "Predicted Class Probability: 0.4\n"
     ]
    }
   ],
   "source": [
    "# Predict with the best model\n",
    "probabilities = best_model.predict_proba(new_sample_transformed)\n",
    "\n",
    "# Get the index of the predicted class\n",
    "predicted_class_index = prediction[0]\n",
    "\n",
    "# Get the probability of the predicted class\n",
    "predicted_class_probability = probabilities[0][predicted_class_index]\n",
    "\n",
    "print(\"Predicted Class Probability:\", round(predicted_class_probability,2))"
   ]
  },
  {
   "cell_type": "code",
   "execution_count": 243,
   "metadata": {},
   "outputs": [
    {
     "data": {
      "image/png": "[encoded data removed]",
      "text/plain": [
       "<Figure size 1000x500 with 1 Axes>"
      ]
     },
     "metadata": {},
     "output_type": "display_data"
    }
   ],
   "source": [
    "from wordcloud import WordCloud\n",
    "import matplotlib.pyplot as plt\n",
    "import nltk\n",
    "from nltk.corpus import stopwords\n",
    "from nltk.stem import WordNetLemmatizer\n",
    "import re\n",
    "\n",
    "# Filtrar el DataFrame original\n",
    "selected_state = 'nevada'\n",
    "selected_city = 'mesquite'\n",
    "selected_category = 'fast food'\n",
    "\n",
    "filtered_df = df_filtrado[(df_filtrado['estado'] == selected_state) & (df_filtrado['ciudad'] == selected_city) & (df_filtrado['categoria'] == selected_category) & (df_filtrado['rating'] <= 3)]\n",
    "\n",
    "# Concatenar las reseñas filtradas en una sola cadena de texto\n",
    "text = ' '.join(filtered_df['text'])\n",
    "\n",
    "# Preprocesamiento de texto\n",
    "lemmatizer = WordNetLemmatizer()\n",
    "stopwords = set(stopwords.words('english'))\n",
    "\n",
    "def preprocess_text(text):\n",
    "    text = text.lower()\n",
    "    text = re.sub(r'[^a-zA-Z]', ' ', text)\n",
    "    words = text.split()\n",
    "    words = [lemmatizer.lemmatize(word) for word in words if word not in stopwords]\n",
    "    return ' '.join(words)\n",
    "\n",
    "preprocessed_text = preprocess_text(text)\n",
    "\n",
    "try:\n",
    "    # Crear la nube de palabras\n",
    "    wordcloud = WordCloud(width=800, height=400, background_color='white').generate(preprocessed_text)\n",
    "# Mostrar la nube de palabras\n",
    "    plt.figure(figsize=(10, 5))\n",
    "    plt.imshow(wordcloud, interpolation='bilinear')\n",
    "    plt.axis('off')\n",
    "    plt.show()\n",
    "except:\n",
    "    print('No hay datos históricos de la categoría %s, en la ciudad %s' % (selected_category, selected_city))"
   ]
  }
 ],
 "metadata": {
  "kernelspec": {
   "display_name": "Python 3 (ipykernel)",
   "language": "python",
   "name": "python3"
  },
  "language_info": {
   "codemirror_mode": {
    "name": "ipython",
    "version": 3
   },
   "file_extension": ".py",
   "mimetype": "text/x-python",
   "name": "python",
   "nbconvert_exporter": "python",
   "pygments_lexer": "ipython3",
   "version": "3.9.13"
  }
 },
 "nbformat": 4,
 "nbformat_minor": 4
}
